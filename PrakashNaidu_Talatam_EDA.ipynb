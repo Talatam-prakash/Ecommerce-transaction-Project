{
 "cells": [
  {
   "cell_type": "markdown",
   "id": "fdf7ddd3",
   "metadata": {},
   "source": [
    "# ECommerce Transactions EDA\n",
    "\n",
    "### AIM : \n",
    "- Perform the Exploratory Data Analysis (EDA) on Customers, Products and Transactions Datasets and Find out business insights.\n",
    "\n",
    "### Data Description\n",
    "#### 1.Customers.csv\n",
    "- CustomerID: Unique identifier for each customer.\n",
    "- CustomerName: Name of the customer.\n",
    "- Region: Continent where the customer resides.\n",
    "- SignupDate: Date when the customer signed up.\n",
    "#### 2. Products.csv\n",
    "- ProductID: Unique identifier for each product.\n",
    "- ProductName: Name of the product.\n",
    "- Category: Product category.\n",
    "- Price: Product price in USD.\n",
    "#### 3. Transactions.csv\n",
    "- TransactionID: Unique identifier for each transaction.\n",
    "- CustomerID: ID of the customer who made the transaction.\n",
    "- ProductID: ID of the product sold.\n",
    "- TransactionDate: Date of the transaction.\n",
    "- Quantity: Quantity of the product purchased.\n",
    "- TotalValue: Total value of the transaction.\n",
    "- Price: Price of the product sold."
   ]
  },
  {
   "cell_type": "markdown",
   "id": "72fb1ef9",
   "metadata": {},
   "source": [
    "### Import necessary libraries"
   ]
  },
  {
   "cell_type": "code",
   "execution_count": 1,
   "id": "2154f1bc",
   "metadata": {},
   "outputs": [],
   "source": [
    "import pandas as pd\n",
    "import numpy as np\n",
    "import matplotlib.pyplot as plt\n",
    "import seaborn as sns"
   ]
  },
  {
   "cell_type": "markdown",
   "id": "85102851",
   "metadata": {},
   "source": [
    "### Explore the Customers data"
   ]
  },
  {
   "cell_type": "code",
   "execution_count": 2,
   "id": "e0152558",
   "metadata": {},
   "outputs": [],
   "source": [
    "# read the Customers csv file\n",
    "customer_df=pd.read_csv(\"Customers.csv\")"
   ]
  },
  {
   "cell_type": "code",
   "execution_count": 3,
   "id": "9bcb7718",
   "metadata": {},
   "outputs": [
    {
     "data": {
      "text/plain": [
       "(200, 4)"
      ]
     },
     "execution_count": 3,
     "metadata": {},
     "output_type": "execute_result"
    }
   ],
   "source": [
    "customer_df.shape"
   ]
  },
  {
   "cell_type": "markdown",
   "id": "dc502f69",
   "metadata": {},
   "source": [
    "- Total 200 Customers and 4 features"
   ]
  },
  {
   "cell_type": "code",
   "execution_count": 4,
   "id": "718a8a57",
   "metadata": {},
   "outputs": [
    {
     "data": {
      "text/html": [
       "<div>\n",
       "<style scoped>\n",
       "    .dataframe tbody tr th:only-of-type {\n",
       "        vertical-align: middle;\n",
       "    }\n",
       "\n",
       "    .dataframe tbody tr th {\n",
       "        vertical-align: top;\n",
       "    }\n",
       "\n",
       "    .dataframe thead th {\n",
       "        text-align: right;\n",
       "    }\n",
       "</style>\n",
       "<table border=\"1\" class=\"dataframe\">\n",
       "  <thead>\n",
       "    <tr style=\"text-align: right;\">\n",
       "      <th></th>\n",
       "      <th>CustomerID</th>\n",
       "      <th>CustomerName</th>\n",
       "      <th>Region</th>\n",
       "      <th>SignupDate</th>\n",
       "    </tr>\n",
       "  </thead>\n",
       "  <tbody>\n",
       "    <tr>\n",
       "      <th>0</th>\n",
       "      <td>C0001</td>\n",
       "      <td>Lawrence Carroll</td>\n",
       "      <td>South America</td>\n",
       "      <td>2022-07-10</td>\n",
       "    </tr>\n",
       "    <tr>\n",
       "      <th>1</th>\n",
       "      <td>C0002</td>\n",
       "      <td>Elizabeth Lutz</td>\n",
       "      <td>Asia</td>\n",
       "      <td>2022-02-13</td>\n",
       "    </tr>\n",
       "    <tr>\n",
       "      <th>2</th>\n",
       "      <td>C0003</td>\n",
       "      <td>Michael Rivera</td>\n",
       "      <td>South America</td>\n",
       "      <td>2024-03-07</td>\n",
       "    </tr>\n",
       "    <tr>\n",
       "      <th>3</th>\n",
       "      <td>C0004</td>\n",
       "      <td>Kathleen Rodriguez</td>\n",
       "      <td>South America</td>\n",
       "      <td>2022-10-09</td>\n",
       "    </tr>\n",
       "    <tr>\n",
       "      <th>4</th>\n",
       "      <td>C0005</td>\n",
       "      <td>Laura Weber</td>\n",
       "      <td>Asia</td>\n",
       "      <td>2022-08-15</td>\n",
       "    </tr>\n",
       "  </tbody>\n",
       "</table>\n",
       "</div>"
      ],
      "text/plain": [
       "  CustomerID        CustomerName         Region  SignupDate\n",
       "0      C0001    Lawrence Carroll  South America  2022-07-10\n",
       "1      C0002      Elizabeth Lutz           Asia  2022-02-13\n",
       "2      C0003      Michael Rivera  South America  2024-03-07\n",
       "3      C0004  Kathleen Rodriguez  South America  2022-10-09\n",
       "4      C0005         Laura Weber           Asia  2022-08-15"
      ]
     },
     "execution_count": 4,
     "metadata": {},
     "output_type": "execute_result"
    }
   ],
   "source": [
    "customer_df.head()"
   ]
  },
  {
   "cell_type": "code",
   "execution_count": 5,
   "id": "11c3e1fd",
   "metadata": {},
   "outputs": [
    {
     "name": "stdout",
     "output_type": "stream",
     "text": [
      "<class 'pandas.core.frame.DataFrame'>\n",
      "RangeIndex: 200 entries, 0 to 199\n",
      "Data columns (total 4 columns):\n",
      " #   Column        Non-Null Count  Dtype \n",
      "---  ------        --------------  ----- \n",
      " 0   CustomerID    200 non-null    object\n",
      " 1   CustomerName  200 non-null    object\n",
      " 2   Region        200 non-null    object\n",
      " 3   SignupDate    200 non-null    object\n",
      "dtypes: object(4)\n",
      "memory usage: 6.4+ KB\n"
     ]
    }
   ],
   "source": [
    "customer_df.info()"
   ]
  },
  {
   "cell_type": "code",
   "execution_count": 6,
   "id": "cdbfe15e",
   "metadata": {},
   "outputs": [
    {
     "data": {
      "text/plain": [
       "0"
      ]
     },
     "execution_count": 6,
     "metadata": {},
     "output_type": "execute_result"
    }
   ],
   "source": [
    "# Check whether any duplicates in the dataset\n",
    "customer_df.duplicated().sum()"
   ]
  },
  {
   "cell_type": "code",
   "execution_count": 8,
   "id": "b91cf2d5",
   "metadata": {},
   "outputs": [
    {
     "data": {
      "text/plain": [
       "CustomerID      0\n",
       "CustomerName    0\n",
       "Region          0\n",
       "SignupDate      0\n",
       "dtype: int64"
      ]
     },
     "execution_count": 8,
     "metadata": {},
     "output_type": "execute_result"
    }
   ],
   "source": [
    "# Find out whether any missing values in the dataset.\n",
    "customer_df.isnull().sum()"
   ]
  },
  {
   "cell_type": "markdown",
   "id": "8248ee6a",
   "metadata": {},
   "source": [
    "- No duplicates and No missing values in the Customers data."
   ]
  },
  {
   "cell_type": "code",
   "execution_count": 9,
   "id": "cc372c89",
   "metadata": {},
   "outputs": [
    {
     "name": "stdout",
     "output_type": "stream",
     "text": [
      "No of unique Customer IDs : 200\n",
      "No of unique Customer Names : 200\n"
     ]
    }
   ],
   "source": [
    "print(\"No of unique Customer IDs :\",customer_df['CustomerID'].nunique())\n",
    "print(\"No of unique Customer Names :\",customer_df['CustomerName'].nunique())"
   ]
  },
  {
   "cell_type": "code",
   "execution_count": 10,
   "id": "60c68a38",
   "metadata": {},
   "outputs": [
    {
     "name": "stdout",
     "output_type": "stream",
     "text": [
      "No of Unique Regions : 4\n"
     ]
    }
   ],
   "source": [
    "print(\"No of Unique Regions :\",customer_df['Region'].nunique())"
   ]
  },
  {
   "cell_type": "code",
   "execution_count": 11,
   "id": "cf5db647",
   "metadata": {},
   "outputs": [
    {
     "data": {
      "text/plain": [
       "Region\n",
       "South America    59\n",
       "Europe           50\n",
       "North America    46\n",
       "Asia             45\n",
       "Name: count, dtype: int64"
      ]
     },
     "execution_count": 11,
     "metadata": {},
     "output_type": "execute_result"
    }
   ],
   "source": [
    "# explore what are the region in the dataset.\n",
    "customer_df['Region'].value_counts()"
   ]
  },
  {
   "cell_type": "code",
   "execution_count": 12,
   "id": "6b40b8ab",
   "metadata": {},
   "outputs": [],
   "source": [
    "# Extract the Signup year from Signup date\n",
    "customer_df['SignUp Year']=customer_df['SignupDate'].str.split(\"-\").str[0]"
   ]
  },
  {
   "cell_type": "code",
   "execution_count": 14,
   "id": "70c56533",
   "metadata": {},
   "outputs": [
    {
     "data": {
      "text/plain": [
       "SignUp Year\n",
       "2024    79\n",
       "2022    64\n",
       "2023    57\n",
       "Name: count, dtype: int64"
      ]
     },
     "execution_count": 14,
     "metadata": {},
     "output_type": "execute_result"
    }
   ],
   "source": [
    "customer_df['SignUp Year'].value_counts()"
   ]
  },
  {
   "cell_type": "code",
   "execution_count": 13,
   "id": "7fcaf7c0",
   "metadata": {},
   "outputs": [
    {
     "data": {
      "text/html": [
       "<div>\n",
       "<style scoped>\n",
       "    .dataframe tbody tr th:only-of-type {\n",
       "        vertical-align: middle;\n",
       "    }\n",
       "\n",
       "    .dataframe tbody tr th {\n",
       "        vertical-align: top;\n",
       "    }\n",
       "\n",
       "    .dataframe thead th {\n",
       "        text-align: right;\n",
       "    }\n",
       "</style>\n",
       "<table border=\"1\" class=\"dataframe\">\n",
       "  <thead>\n",
       "    <tr style=\"text-align: right;\">\n",
       "      <th></th>\n",
       "      <th>CustomerID</th>\n",
       "      <th>CustomerName</th>\n",
       "      <th>Region</th>\n",
       "      <th>SignupDate</th>\n",
       "      <th>SignUp Year</th>\n",
       "    </tr>\n",
       "  </thead>\n",
       "  <tbody>\n",
       "    <tr>\n",
       "      <th>0</th>\n",
       "      <td>C0001</td>\n",
       "      <td>Lawrence Carroll</td>\n",
       "      <td>South America</td>\n",
       "      <td>2022-07-10</td>\n",
       "      <td>2022</td>\n",
       "    </tr>\n",
       "    <tr>\n",
       "      <th>1</th>\n",
       "      <td>C0002</td>\n",
       "      <td>Elizabeth Lutz</td>\n",
       "      <td>Asia</td>\n",
       "      <td>2022-02-13</td>\n",
       "      <td>2022</td>\n",
       "    </tr>\n",
       "    <tr>\n",
       "      <th>2</th>\n",
       "      <td>C0003</td>\n",
       "      <td>Michael Rivera</td>\n",
       "      <td>South America</td>\n",
       "      <td>2024-03-07</td>\n",
       "      <td>2024</td>\n",
       "    </tr>\n",
       "    <tr>\n",
       "      <th>3</th>\n",
       "      <td>C0004</td>\n",
       "      <td>Kathleen Rodriguez</td>\n",
       "      <td>South America</td>\n",
       "      <td>2022-10-09</td>\n",
       "      <td>2022</td>\n",
       "    </tr>\n",
       "    <tr>\n",
       "      <th>4</th>\n",
       "      <td>C0005</td>\n",
       "      <td>Laura Weber</td>\n",
       "      <td>Asia</td>\n",
       "      <td>2022-08-15</td>\n",
       "      <td>2022</td>\n",
       "    </tr>\n",
       "  </tbody>\n",
       "</table>\n",
       "</div>"
      ],
      "text/plain": [
       "  CustomerID        CustomerName         Region  SignupDate SignUp Year\n",
       "0      C0001    Lawrence Carroll  South America  2022-07-10        2022\n",
       "1      C0002      Elizabeth Lutz           Asia  2022-02-13        2022\n",
       "2      C0003      Michael Rivera  South America  2024-03-07        2024\n",
       "3      C0004  Kathleen Rodriguez  South America  2022-10-09        2022\n",
       "4      C0005         Laura Weber           Asia  2022-08-15        2022"
      ]
     },
     "execution_count": 13,
     "metadata": {},
     "output_type": "execute_result"
    }
   ],
   "source": [
    "customer_df.head()"
   ]
  },
  {
   "cell_type": "markdown",
   "id": "28d3a1ef",
   "metadata": {},
   "source": [
    "- A total of 200 customers.\n",
    "- All the customers belong to four different regions.\n",
    "- Most of the customers signed up in 2024."
   ]
  },
  {
   "cell_type": "markdown",
   "id": "46a7f7ae",
   "metadata": {},
   "source": [
    "### Explore the Products Data"
   ]
  },
  {
   "cell_type": "code",
   "execution_count": 15,
   "id": "ada2d404",
   "metadata": {},
   "outputs": [],
   "source": [
    "product_df=pd.read_csv(\"Products.csv\")"
   ]
  },
  {
   "cell_type": "code",
   "execution_count": 16,
   "id": "08e48ea9",
   "metadata": {},
   "outputs": [
    {
     "data": {
      "text/plain": [
       "(100, 4)"
      ]
     },
     "execution_count": 16,
     "metadata": {},
     "output_type": "execute_result"
    }
   ],
   "source": [
    "product_df.shape"
   ]
  },
  {
   "cell_type": "markdown",
   "id": "d02e144e",
   "metadata": {},
   "source": [
    "- Total 100 products with 4 features"
   ]
  },
  {
   "cell_type": "code",
   "execution_count": 17,
   "id": "aedfa7ed",
   "metadata": {},
   "outputs": [
    {
     "data": {
      "text/html": [
       "<div>\n",
       "<style scoped>\n",
       "    .dataframe tbody tr th:only-of-type {\n",
       "        vertical-align: middle;\n",
       "    }\n",
       "\n",
       "    .dataframe tbody tr th {\n",
       "        vertical-align: top;\n",
       "    }\n",
       "\n",
       "    .dataframe thead th {\n",
       "        text-align: right;\n",
       "    }\n",
       "</style>\n",
       "<table border=\"1\" class=\"dataframe\">\n",
       "  <thead>\n",
       "    <tr style=\"text-align: right;\">\n",
       "      <th></th>\n",
       "      <th>ProductID</th>\n",
       "      <th>ProductName</th>\n",
       "      <th>Category</th>\n",
       "      <th>Price</th>\n",
       "    </tr>\n",
       "  </thead>\n",
       "  <tbody>\n",
       "    <tr>\n",
       "      <th>0</th>\n",
       "      <td>P001</td>\n",
       "      <td>ActiveWear Biography</td>\n",
       "      <td>Books</td>\n",
       "      <td>169.30</td>\n",
       "    </tr>\n",
       "    <tr>\n",
       "      <th>1</th>\n",
       "      <td>P002</td>\n",
       "      <td>ActiveWear Smartwatch</td>\n",
       "      <td>Electronics</td>\n",
       "      <td>346.30</td>\n",
       "    </tr>\n",
       "    <tr>\n",
       "      <th>2</th>\n",
       "      <td>P003</td>\n",
       "      <td>ComfortLiving Biography</td>\n",
       "      <td>Books</td>\n",
       "      <td>44.12</td>\n",
       "    </tr>\n",
       "    <tr>\n",
       "      <th>3</th>\n",
       "      <td>P004</td>\n",
       "      <td>BookWorld Rug</td>\n",
       "      <td>Home Decor</td>\n",
       "      <td>95.69</td>\n",
       "    </tr>\n",
       "    <tr>\n",
       "      <th>4</th>\n",
       "      <td>P005</td>\n",
       "      <td>TechPro T-Shirt</td>\n",
       "      <td>Clothing</td>\n",
       "      <td>429.31</td>\n",
       "    </tr>\n",
       "  </tbody>\n",
       "</table>\n",
       "</div>"
      ],
      "text/plain": [
       "  ProductID              ProductName     Category   Price\n",
       "0      P001     ActiveWear Biography        Books  169.30\n",
       "1      P002    ActiveWear Smartwatch  Electronics  346.30\n",
       "2      P003  ComfortLiving Biography        Books   44.12\n",
       "3      P004            BookWorld Rug   Home Decor   95.69\n",
       "4      P005          TechPro T-Shirt     Clothing  429.31"
      ]
     },
     "execution_count": 17,
     "metadata": {},
     "output_type": "execute_result"
    }
   ],
   "source": [
    "product_df.head()"
   ]
  },
  {
   "cell_type": "code",
   "execution_count": 18,
   "id": "7949b942",
   "metadata": {},
   "outputs": [
    {
     "name": "stdout",
     "output_type": "stream",
     "text": [
      "<class 'pandas.core.frame.DataFrame'>\n",
      "RangeIndex: 100 entries, 0 to 99\n",
      "Data columns (total 4 columns):\n",
      " #   Column       Non-Null Count  Dtype  \n",
      "---  ------       --------------  -----  \n",
      " 0   ProductID    100 non-null    object \n",
      " 1   ProductName  100 non-null    object \n",
      " 2   Category     100 non-null    object \n",
      " 3   Price        100 non-null    float64\n",
      "dtypes: float64(1), object(3)\n",
      "memory usage: 3.2+ KB\n"
     ]
    }
   ],
   "source": [
    "product_df.info()"
   ]
  },
  {
   "cell_type": "code",
   "execution_count": 19,
   "id": "479178bb",
   "metadata": {},
   "outputs": [
    {
     "data": {
      "text/plain": [
       "ProductID      0\n",
       "ProductName    0\n",
       "Category       0\n",
       "Price          0\n",
       "dtype: int64"
      ]
     },
     "execution_count": 19,
     "metadata": {},
     "output_type": "execute_result"
    }
   ],
   "source": [
    "# find out whether any missing values in the products data\n",
    "product_df.isnull().sum()"
   ]
  },
  {
   "cell_type": "code",
   "execution_count": 21,
   "id": "9ffae614",
   "metadata": {},
   "outputs": [
    {
     "data": {
      "text/plain": [
       "0"
      ]
     },
     "execution_count": 21,
     "metadata": {},
     "output_type": "execute_result"
    }
   ],
   "source": [
    "# find out whether any duplicates in the data\n",
    "product_df.duplicated().sum()"
   ]
  },
  {
   "cell_type": "markdown",
   "id": "deb925d2",
   "metadata": {},
   "source": [
    "- No missing values and No duplicates in the products data"
   ]
  },
  {
   "cell_type": "code",
   "execution_count": 26,
   "id": "c9cc47de",
   "metadata": {},
   "outputs": [
    {
     "name": "stdout",
     "output_type": "stream",
     "text": [
      "No of Unique Products IDs : 100\n",
      "No of Unique Products: 66\n"
     ]
    }
   ],
   "source": [
    "print(f\"No of Unique Products IDs : {product_df['ProductID'].nunique()}\")\n",
    "print(f\"No of Unique Products: {product_df['ProductName'].nunique()}\")"
   ]
  },
  {
   "cell_type": "code",
   "execution_count": 27,
   "id": "07dcef69",
   "metadata": {},
   "outputs": [
    {
     "data": {
      "text/plain": [
       "ProductName\n",
       "ActiveWear Smartwatch         4\n",
       "SoundWave Headphones          4\n",
       "BookWorld Biography           3\n",
       "TechPro T-Shirt               3\n",
       "SoundWave Cookbook            3\n",
       "                             ..\n",
       "BookWorld Jacket              1\n",
       "ComfortLiving Smartphone      1\n",
       "SoundWave T-Shirt             1\n",
       "ComfortLiving Cookware Set    1\n",
       "SoundWave Laptop              1\n",
       "Name: count, Length: 66, dtype: int64"
      ]
     },
     "execution_count": 27,
     "metadata": {},
     "output_type": "execute_result"
    }
   ],
   "source": [
    "product_df['ProductName'].value_counts()"
   ]
  },
  {
   "cell_type": "code",
   "execution_count": 28,
   "id": "1c8409a9",
   "metadata": {},
   "outputs": [
    {
     "data": {
      "text/html": [
       "<div>\n",
       "<style scoped>\n",
       "    .dataframe tbody tr th:only-of-type {\n",
       "        vertical-align: middle;\n",
       "    }\n",
       "\n",
       "    .dataframe tbody tr th {\n",
       "        vertical-align: top;\n",
       "    }\n",
       "\n",
       "    .dataframe thead th {\n",
       "        text-align: right;\n",
       "    }\n",
       "</style>\n",
       "<table border=\"1\" class=\"dataframe\">\n",
       "  <thead>\n",
       "    <tr style=\"text-align: right;\">\n",
       "      <th></th>\n",
       "      <th>ProductID</th>\n",
       "      <th>ProductName</th>\n",
       "      <th>Category</th>\n",
       "      <th>Price</th>\n",
       "    </tr>\n",
       "  </thead>\n",
       "  <tbody>\n",
       "    <tr>\n",
       "      <th>1</th>\n",
       "      <td>P002</td>\n",
       "      <td>ActiveWear Smartwatch</td>\n",
       "      <td>Electronics</td>\n",
       "      <td>346.30</td>\n",
       "    </tr>\n",
       "    <tr>\n",
       "      <th>49</th>\n",
       "      <td>P050</td>\n",
       "      <td>ActiveWear Smartwatch</td>\n",
       "      <td>Electronics</td>\n",
       "      <td>437.65</td>\n",
       "    </tr>\n",
       "    <tr>\n",
       "      <th>76</th>\n",
       "      <td>P077</td>\n",
       "      <td>ActiveWear Smartwatch</td>\n",
       "      <td>Electronics</td>\n",
       "      <td>265.51</td>\n",
       "    </tr>\n",
       "    <tr>\n",
       "      <th>82</th>\n",
       "      <td>P083</td>\n",
       "      <td>ActiveWear Smartwatch</td>\n",
       "      <td>Electronics</td>\n",
       "      <td>455.72</td>\n",
       "    </tr>\n",
       "  </tbody>\n",
       "</table>\n",
       "</div>"
      ],
      "text/plain": [
       "   ProductID            ProductName     Category   Price\n",
       "1       P002  ActiveWear Smartwatch  Electronics  346.30\n",
       "49      P050  ActiveWear Smartwatch  Electronics  437.65\n",
       "76      P077  ActiveWear Smartwatch  Electronics  265.51\n",
       "82      P083  ActiveWear Smartwatch  Electronics  455.72"
      ]
     },
     "execution_count": 28,
     "metadata": {},
     "output_type": "execute_result"
    }
   ],
   "source": [
    "product_df[product_df['ProductName']=='ActiveWear Smartwatch']"
   ]
  },
  {
   "cell_type": "code",
   "execution_count": 29,
   "id": "ce88da0a",
   "metadata": {},
   "outputs": [
    {
     "data": {
      "text/html": [
       "<div>\n",
       "<style scoped>\n",
       "    .dataframe tbody tr th:only-of-type {\n",
       "        vertical-align: middle;\n",
       "    }\n",
       "\n",
       "    .dataframe tbody tr th {\n",
       "        vertical-align: top;\n",
       "    }\n",
       "\n",
       "    .dataframe thead th {\n",
       "        text-align: right;\n",
       "    }\n",
       "</style>\n",
       "<table border=\"1\" class=\"dataframe\">\n",
       "  <thead>\n",
       "    <tr style=\"text-align: right;\">\n",
       "      <th></th>\n",
       "      <th>ProductID</th>\n",
       "      <th>ProductName</th>\n",
       "      <th>Category</th>\n",
       "      <th>Price</th>\n",
       "    </tr>\n",
       "  </thead>\n",
       "  <tbody>\n",
       "    <tr>\n",
       "      <th>26</th>\n",
       "      <td>P027</td>\n",
       "      <td>SoundWave Headphones</td>\n",
       "      <td>Electronics</td>\n",
       "      <td>229.06</td>\n",
       "    </tr>\n",
       "    <tr>\n",
       "      <th>30</th>\n",
       "      <td>P031</td>\n",
       "      <td>SoundWave Headphones</td>\n",
       "      <td>Electronics</td>\n",
       "      <td>196.40</td>\n",
       "    </tr>\n",
       "    <tr>\n",
       "      <th>87</th>\n",
       "      <td>P088</td>\n",
       "      <td>SoundWave Headphones</td>\n",
       "      <td>Electronics</td>\n",
       "      <td>263.55</td>\n",
       "    </tr>\n",
       "    <tr>\n",
       "      <th>95</th>\n",
       "      <td>P096</td>\n",
       "      <td>SoundWave Headphones</td>\n",
       "      <td>Electronics</td>\n",
       "      <td>307.47</td>\n",
       "    </tr>\n",
       "  </tbody>\n",
       "</table>\n",
       "</div>"
      ],
      "text/plain": [
       "   ProductID           ProductName     Category   Price\n",
       "26      P027  SoundWave Headphones  Electronics  229.06\n",
       "30      P031  SoundWave Headphones  Electronics  196.40\n",
       "87      P088  SoundWave Headphones  Electronics  263.55\n",
       "95      P096  SoundWave Headphones  Electronics  307.47"
      ]
     },
     "execution_count": 29,
     "metadata": {},
     "output_type": "execute_result"
    }
   ],
   "source": [
    "product_df[product_df['ProductName']=='SoundWave Headphones']"
   ]
  },
  {
   "cell_type": "code",
   "execution_count": 30,
   "id": "2e20cd96",
   "metadata": {},
   "outputs": [],
   "source": [
    "# Find No of products that have the same product name but different product IDs.\n",
    "product_name_counts = product_df['ProductName'].value_counts()\n",
    "\n",
    "duplicate_products = product_name_counts[product_name_counts > 1]"
   ]
  },
  {
   "cell_type": "code",
   "execution_count": 31,
   "id": "6eca08da",
   "metadata": {},
   "outputs": [
    {
     "data": {
      "text/plain": [
       "ProductName\n",
       "ActiveWear Smartwatch       4\n",
       "SoundWave Headphones        4\n",
       "BookWorld Biography         3\n",
       "TechPro T-Shirt             3\n",
       "SoundWave Cookbook          3\n",
       "ActiveWear Jacket           3\n",
       "HomeSense T-Shirt           3\n",
       "BookWorld Sweater           2\n",
       "SoundWave Novel             2\n",
       "ActiveWear Headphones       2\n",
       "SoundWave Mystery Book      2\n",
       "HomeSense Rug               2\n",
       "TechPro Vase                2\n",
       "SoundWave Smartwatch        2\n",
       "TechPro Novel               2\n",
       "BookWorld Cookbook          2\n",
       "HomeSense Desk Lamp         2\n",
       "ActiveWear Cookware Set     2\n",
       "TechPro Textbook            2\n",
       "ComfortLiving Biography     2\n",
       "HomeSense Sweater           2\n",
       "ActiveWear Textbook         2\n",
       "ActiveWear Running Shoes    2\n",
       "ActiveWear Rug              2\n",
       "SoundWave Desk Lamp         2\n",
       "Name: count, dtype: int64"
      ]
     },
     "execution_count": 31,
     "metadata": {},
     "output_type": "execute_result"
    }
   ],
   "source": [
    "duplicate_products"
   ]
  },
  {
   "cell_type": "code",
   "execution_count": 32,
   "id": "9189b5c1",
   "metadata": {},
   "outputs": [
    {
     "data": {
      "text/plain": [
       "25"
      ]
     },
     "execution_count": 32,
     "metadata": {},
     "output_type": "execute_result"
    }
   ],
   "source": [
    "len(duplicate_products)"
   ]
  },
  {
   "cell_type": "code",
   "execution_count": 33,
   "id": "4735cf73",
   "metadata": {},
   "outputs": [
    {
     "data": {
      "text/plain": [
       "4"
      ]
     },
     "execution_count": 33,
     "metadata": {},
     "output_type": "execute_result"
    }
   ],
   "source": [
    "# Explore the Category feature\n",
    "product_df['Category'].nunique()"
   ]
  },
  {
   "cell_type": "code",
   "execution_count": 34,
   "id": "afb4073b",
   "metadata": {},
   "outputs": [
    {
     "data": {
      "text/plain": [
       "Category\n",
       "Books          26\n",
       "Electronics    26\n",
       "Clothing       25\n",
       "Home Decor     23\n",
       "Name: count, dtype: int64"
      ]
     },
     "execution_count": 34,
     "metadata": {},
     "output_type": "execute_result"
    }
   ],
   "source": [
    "product_df['Category'].value_counts()"
   ]
  },
  {
   "cell_type": "markdown",
   "id": "d8902a49",
   "metadata": {},
   "source": [
    "- A total of 100 product IDs.\n",
    "- A total of 66 products.\n",
    "- Four different categories: Books, Electronics, Clothing, and Home Decor."
   ]
  },
  {
   "cell_type": "markdown",
   "id": "ade9bfa1",
   "metadata": {},
   "source": [
    "### Explore the Transactions Data"
   ]
  },
  {
   "cell_type": "code",
   "execution_count": 35,
   "id": "f6514e5e",
   "metadata": {},
   "outputs": [],
   "source": [
    "transaction_df=pd.read_csv(\"Transactions.csv\")"
   ]
  },
  {
   "cell_type": "code",
   "execution_count": 38,
   "id": "fc3b4af1",
   "metadata": {},
   "outputs": [
    {
     "data": {
      "text/plain": [
       "(1000, 7)"
      ]
     },
     "execution_count": 38,
     "metadata": {},
     "output_type": "execute_result"
    }
   ],
   "source": [
    "transaction_df.shape"
   ]
  },
  {
   "cell_type": "markdown",
   "id": "6c38f368",
   "metadata": {},
   "source": [
    "- Total 1000 Transactions and 7 features"
   ]
  },
  {
   "cell_type": "code",
   "execution_count": 39,
   "id": "3a1c0864",
   "metadata": {},
   "outputs": [
    {
     "data": {
      "text/html": [
       "<div>\n",
       "<style scoped>\n",
       "    .dataframe tbody tr th:only-of-type {\n",
       "        vertical-align: middle;\n",
       "    }\n",
       "\n",
       "    .dataframe tbody tr th {\n",
       "        vertical-align: top;\n",
       "    }\n",
       "\n",
       "    .dataframe thead th {\n",
       "        text-align: right;\n",
       "    }\n",
       "</style>\n",
       "<table border=\"1\" class=\"dataframe\">\n",
       "  <thead>\n",
       "    <tr style=\"text-align: right;\">\n",
       "      <th></th>\n",
       "      <th>TransactionID</th>\n",
       "      <th>CustomerID</th>\n",
       "      <th>ProductID</th>\n",
       "      <th>TransactionDate</th>\n",
       "      <th>Quantity</th>\n",
       "      <th>TotalValue</th>\n",
       "      <th>Price</th>\n",
       "    </tr>\n",
       "  </thead>\n",
       "  <tbody>\n",
       "    <tr>\n",
       "      <th>0</th>\n",
       "      <td>T00001</td>\n",
       "      <td>C0199</td>\n",
       "      <td>P067</td>\n",
       "      <td>2024-08-25 12:38:23</td>\n",
       "      <td>1</td>\n",
       "      <td>300.68</td>\n",
       "      <td>300.68</td>\n",
       "    </tr>\n",
       "    <tr>\n",
       "      <th>1</th>\n",
       "      <td>T00112</td>\n",
       "      <td>C0146</td>\n",
       "      <td>P067</td>\n",
       "      <td>2024-05-27 22:23:54</td>\n",
       "      <td>1</td>\n",
       "      <td>300.68</td>\n",
       "      <td>300.68</td>\n",
       "    </tr>\n",
       "    <tr>\n",
       "      <th>2</th>\n",
       "      <td>T00166</td>\n",
       "      <td>C0127</td>\n",
       "      <td>P067</td>\n",
       "      <td>2024-04-25 07:38:55</td>\n",
       "      <td>1</td>\n",
       "      <td>300.68</td>\n",
       "      <td>300.68</td>\n",
       "    </tr>\n",
       "    <tr>\n",
       "      <th>3</th>\n",
       "      <td>T00272</td>\n",
       "      <td>C0087</td>\n",
       "      <td>P067</td>\n",
       "      <td>2024-03-26 22:55:37</td>\n",
       "      <td>2</td>\n",
       "      <td>601.36</td>\n",
       "      <td>300.68</td>\n",
       "    </tr>\n",
       "    <tr>\n",
       "      <th>4</th>\n",
       "      <td>T00363</td>\n",
       "      <td>C0070</td>\n",
       "      <td>P067</td>\n",
       "      <td>2024-03-21 15:10:10</td>\n",
       "      <td>3</td>\n",
       "      <td>902.04</td>\n",
       "      <td>300.68</td>\n",
       "    </tr>\n",
       "  </tbody>\n",
       "</table>\n",
       "</div>"
      ],
      "text/plain": [
       "  TransactionID CustomerID ProductID      TransactionDate  Quantity   \n",
       "0        T00001      C0199      P067  2024-08-25 12:38:23         1  \\\n",
       "1        T00112      C0146      P067  2024-05-27 22:23:54         1   \n",
       "2        T00166      C0127      P067  2024-04-25 07:38:55         1   \n",
       "3        T00272      C0087      P067  2024-03-26 22:55:37         2   \n",
       "4        T00363      C0070      P067  2024-03-21 15:10:10         3   \n",
       "\n",
       "   TotalValue   Price  \n",
       "0      300.68  300.68  \n",
       "1      300.68  300.68  \n",
       "2      300.68  300.68  \n",
       "3      601.36  300.68  \n",
       "4      902.04  300.68  "
      ]
     },
     "execution_count": 39,
     "metadata": {},
     "output_type": "execute_result"
    }
   ],
   "source": [
    "transaction_df.head()"
   ]
  },
  {
   "cell_type": "code",
   "execution_count": 40,
   "id": "218156dc",
   "metadata": {},
   "outputs": [
    {
     "data": {
      "text/html": [
       "<div>\n",
       "<style scoped>\n",
       "    .dataframe tbody tr th:only-of-type {\n",
       "        vertical-align: middle;\n",
       "    }\n",
       "\n",
       "    .dataframe tbody tr th {\n",
       "        vertical-align: top;\n",
       "    }\n",
       "\n",
       "    .dataframe thead th {\n",
       "        text-align: right;\n",
       "    }\n",
       "</style>\n",
       "<table border=\"1\" class=\"dataframe\">\n",
       "  <thead>\n",
       "    <tr style=\"text-align: right;\">\n",
       "      <th></th>\n",
       "      <th>Quantity</th>\n",
       "      <th>TotalValue</th>\n",
       "      <th>Price</th>\n",
       "    </tr>\n",
       "  </thead>\n",
       "  <tbody>\n",
       "    <tr>\n",
       "      <th>count</th>\n",
       "      <td>1000.000000</td>\n",
       "      <td>1000.000000</td>\n",
       "      <td>1000.00000</td>\n",
       "    </tr>\n",
       "    <tr>\n",
       "      <th>mean</th>\n",
       "      <td>2.537000</td>\n",
       "      <td>689.995560</td>\n",
       "      <td>272.55407</td>\n",
       "    </tr>\n",
       "    <tr>\n",
       "      <th>std</th>\n",
       "      <td>1.117981</td>\n",
       "      <td>493.144478</td>\n",
       "      <td>140.73639</td>\n",
       "    </tr>\n",
       "    <tr>\n",
       "      <th>min</th>\n",
       "      <td>1.000000</td>\n",
       "      <td>16.080000</td>\n",
       "      <td>16.08000</td>\n",
       "    </tr>\n",
       "    <tr>\n",
       "      <th>25%</th>\n",
       "      <td>2.000000</td>\n",
       "      <td>295.295000</td>\n",
       "      <td>147.95000</td>\n",
       "    </tr>\n",
       "    <tr>\n",
       "      <th>50%</th>\n",
       "      <td>3.000000</td>\n",
       "      <td>588.880000</td>\n",
       "      <td>299.93000</td>\n",
       "    </tr>\n",
       "    <tr>\n",
       "      <th>75%</th>\n",
       "      <td>4.000000</td>\n",
       "      <td>1011.660000</td>\n",
       "      <td>404.40000</td>\n",
       "    </tr>\n",
       "    <tr>\n",
       "      <th>max</th>\n",
       "      <td>4.000000</td>\n",
       "      <td>1991.040000</td>\n",
       "      <td>497.76000</td>\n",
       "    </tr>\n",
       "  </tbody>\n",
       "</table>\n",
       "</div>"
      ],
      "text/plain": [
       "          Quantity   TotalValue       Price\n",
       "count  1000.000000  1000.000000  1000.00000\n",
       "mean      2.537000   689.995560   272.55407\n",
       "std       1.117981   493.144478   140.73639\n",
       "min       1.000000    16.080000    16.08000\n",
       "25%       2.000000   295.295000   147.95000\n",
       "50%       3.000000   588.880000   299.93000\n",
       "75%       4.000000  1011.660000   404.40000\n",
       "max       4.000000  1991.040000   497.76000"
      ]
     },
     "execution_count": 40,
     "metadata": {},
     "output_type": "execute_result"
    }
   ],
   "source": [
    "transaction_df.describe()"
   ]
  },
  {
   "cell_type": "code",
   "execution_count": 41,
   "id": "475860a5",
   "metadata": {},
   "outputs": [
    {
     "name": "stdout",
     "output_type": "stream",
     "text": [
      "<class 'pandas.core.frame.DataFrame'>\n",
      "RangeIndex: 1000 entries, 0 to 999\n",
      "Data columns (total 7 columns):\n",
      " #   Column           Non-Null Count  Dtype  \n",
      "---  ------           --------------  -----  \n",
      " 0   TransactionID    1000 non-null   object \n",
      " 1   CustomerID       1000 non-null   object \n",
      " 2   ProductID        1000 non-null   object \n",
      " 3   TransactionDate  1000 non-null   object \n",
      " 4   Quantity         1000 non-null   int64  \n",
      " 5   TotalValue       1000 non-null   float64\n",
      " 6   Price            1000 non-null   float64\n",
      "dtypes: float64(2), int64(1), object(4)\n",
      "memory usage: 54.8+ KB\n"
     ]
    }
   ],
   "source": [
    "transaction_df.info()"
   ]
  },
  {
   "cell_type": "code",
   "execution_count": 42,
   "id": "72f9507e",
   "metadata": {},
   "outputs": [
    {
     "data": {
      "text/plain": [
       "TransactionID      0\n",
       "CustomerID         0\n",
       "ProductID          0\n",
       "TransactionDate    0\n",
       "Quantity           0\n",
       "TotalValue         0\n",
       "Price              0\n",
       "dtype: int64"
      ]
     },
     "execution_count": 42,
     "metadata": {},
     "output_type": "execute_result"
    }
   ],
   "source": [
    "transaction_df.isnull().sum()"
   ]
  },
  {
   "cell_type": "code",
   "execution_count": 43,
   "id": "fb1b982a",
   "metadata": {},
   "outputs": [
    {
     "data": {
      "text/plain": [
       "0"
      ]
     },
     "execution_count": 43,
     "metadata": {},
     "output_type": "execute_result"
    }
   ],
   "source": [
    "transaction_df.duplicated().sum()"
   ]
  },
  {
   "cell_type": "markdown",
   "id": "3e59afbe",
   "metadata": {},
   "source": [
    "- No missing and Duplicated in the transaction data."
   ]
  },
  {
   "cell_type": "code",
   "execution_count": 44,
   "id": "493e8b12",
   "metadata": {},
   "outputs": [
    {
     "data": {
      "text/plain": [
       "199"
      ]
     },
     "execution_count": 44,
     "metadata": {},
     "output_type": "execute_result"
    }
   ],
   "source": [
    "transaction_df[\"CustomerID\"].nunique()"
   ]
  },
  {
   "cell_type": "code",
   "execution_count": 45,
   "id": "e269f20d",
   "metadata": {},
   "outputs": [
    {
     "data": {
      "text/plain": [
       "CustomerID\n",
       "C0109    11\n",
       "C0156    11\n",
       "C0141    10\n",
       "C0175    10\n",
       "C0065    10\n",
       "C0008    10\n",
       "C0147     9\n",
       "C0093     9\n",
       "C0075     9\n",
       "C0084     9\n",
       "Name: count, dtype: int64"
      ]
     },
     "execution_count": 45,
     "metadata": {},
     "output_type": "execute_result"
    }
   ],
   "source": [
    "transaction_df[\"CustomerID\"].value_counts()[:10]"
   ]
  },
  {
   "cell_type": "code",
   "execution_count": 46,
   "id": "45cbc4d0",
   "metadata": {},
   "outputs": [
    {
     "data": {
      "text/plain": [
       "100"
      ]
     },
     "execution_count": 46,
     "metadata": {},
     "output_type": "execute_result"
    }
   ],
   "source": [
    "transaction_df[\"ProductID\"].nunique()"
   ]
  },
  {
   "cell_type": "code",
   "execution_count": 47,
   "id": "fba4358f",
   "metadata": {},
   "outputs": [
    {
     "data": {
      "text/plain": [
       "ProductID\n",
       "P059    19\n",
       "P029    17\n",
       "P062    16\n",
       "P079    16\n",
       "P054    16\n",
       "P061    16\n",
       "P048    15\n",
       "P022    15\n",
       "P096    15\n",
       "P049    15\n",
       "Name: count, dtype: int64"
      ]
     },
     "execution_count": 47,
     "metadata": {},
     "output_type": "execute_result"
    }
   ],
   "source": [
    "transaction_df[\"ProductID\"].value_counts()[:10]"
   ]
  },
  {
   "cell_type": "markdown",
   "id": "8e25b71b",
   "metadata": {},
   "source": [
    "- 199 customers made transactions, and 100 products are included in the transactions."
   ]
  },
  {
   "cell_type": "code",
   "execution_count": 59,
   "id": "045e4d5d",
   "metadata": {},
   "outputs": [],
   "source": [
    "df=pd.merge(customer_df,transaction_df,on='CustomerID',how='left')"
   ]
  },
  {
   "cell_type": "code",
   "execution_count": 60,
   "id": "f04cea2d",
   "metadata": {},
   "outputs": [
    {
     "data": {
      "text/html": [
       "<div>\n",
       "<style scoped>\n",
       "    .dataframe tbody tr th:only-of-type {\n",
       "        vertical-align: middle;\n",
       "    }\n",
       "\n",
       "    .dataframe tbody tr th {\n",
       "        vertical-align: top;\n",
       "    }\n",
       "\n",
       "    .dataframe thead th {\n",
       "        text-align: right;\n",
       "    }\n",
       "</style>\n",
       "<table border=\"1\" class=\"dataframe\">\n",
       "  <thead>\n",
       "    <tr style=\"text-align: right;\">\n",
       "      <th></th>\n",
       "      <th>CustomerID</th>\n",
       "      <th>CustomerName</th>\n",
       "      <th>Region</th>\n",
       "      <th>SignupDate</th>\n",
       "      <th>SignUp Year</th>\n",
       "      <th>TransactionID</th>\n",
       "      <th>ProductID</th>\n",
       "      <th>TransactionDate</th>\n",
       "      <th>Quantity</th>\n",
       "      <th>TotalValue</th>\n",
       "      <th>Price</th>\n",
       "      <th>Transaction year</th>\n",
       "      <th>Transaction Month</th>\n",
       "    </tr>\n",
       "  </thead>\n",
       "  <tbody>\n",
       "    <tr>\n",
       "      <th>0</th>\n",
       "      <td>C0001</td>\n",
       "      <td>Lawrence Carroll</td>\n",
       "      <td>South America</td>\n",
       "      <td>2022-07-10</td>\n",
       "      <td>2022</td>\n",
       "      <td>T00015</td>\n",
       "      <td>P054</td>\n",
       "      <td>2024-01-19 03:12:55</td>\n",
       "      <td>2.0</td>\n",
       "      <td>114.60</td>\n",
       "      <td>57.30</td>\n",
       "      <td>2024.0</td>\n",
       "      <td>1.0</td>\n",
       "    </tr>\n",
       "    <tr>\n",
       "      <th>1</th>\n",
       "      <td>C0001</td>\n",
       "      <td>Lawrence Carroll</td>\n",
       "      <td>South America</td>\n",
       "      <td>2022-07-10</td>\n",
       "      <td>2022</td>\n",
       "      <td>T00932</td>\n",
       "      <td>P022</td>\n",
       "      <td>2024-09-17 09:01:18</td>\n",
       "      <td>3.0</td>\n",
       "      <td>412.62</td>\n",
       "      <td>137.54</td>\n",
       "      <td>2024.0</td>\n",
       "      <td>9.0</td>\n",
       "    </tr>\n",
       "    <tr>\n",
       "      <th>2</th>\n",
       "      <td>C0001</td>\n",
       "      <td>Lawrence Carroll</td>\n",
       "      <td>South America</td>\n",
       "      <td>2022-07-10</td>\n",
       "      <td>2022</td>\n",
       "      <td>T00085</td>\n",
       "      <td>P096</td>\n",
       "      <td>2024-04-08 00:01:00</td>\n",
       "      <td>2.0</td>\n",
       "      <td>614.94</td>\n",
       "      <td>307.47</td>\n",
       "      <td>2024.0</td>\n",
       "      <td>4.0</td>\n",
       "    </tr>\n",
       "    <tr>\n",
       "      <th>3</th>\n",
       "      <td>C0001</td>\n",
       "      <td>Lawrence Carroll</td>\n",
       "      <td>South America</td>\n",
       "      <td>2022-07-10</td>\n",
       "      <td>2022</td>\n",
       "      <td>T00445</td>\n",
       "      <td>P083</td>\n",
       "      <td>2024-05-07 03:11:44</td>\n",
       "      <td>2.0</td>\n",
       "      <td>911.44</td>\n",
       "      <td>455.72</td>\n",
       "      <td>2024.0</td>\n",
       "      <td>5.0</td>\n",
       "    </tr>\n",
       "    <tr>\n",
       "      <th>4</th>\n",
       "      <td>C0001</td>\n",
       "      <td>Lawrence Carroll</td>\n",
       "      <td>South America</td>\n",
       "      <td>2022-07-10</td>\n",
       "      <td>2022</td>\n",
       "      <td>T00436</td>\n",
       "      <td>P029</td>\n",
       "      <td>2024-11-02 17:04:16</td>\n",
       "      <td>3.0</td>\n",
       "      <td>1300.92</td>\n",
       "      <td>433.64</td>\n",
       "      <td>2024.0</td>\n",
       "      <td>11.0</td>\n",
       "    </tr>\n",
       "  </tbody>\n",
       "</table>\n",
       "</div>"
      ],
      "text/plain": [
       "  CustomerID      CustomerName         Region  SignupDate SignUp Year   \n",
       "0      C0001  Lawrence Carroll  South America  2022-07-10        2022  \\\n",
       "1      C0001  Lawrence Carroll  South America  2022-07-10        2022   \n",
       "2      C0001  Lawrence Carroll  South America  2022-07-10        2022   \n",
       "3      C0001  Lawrence Carroll  South America  2022-07-10        2022   \n",
       "4      C0001  Lawrence Carroll  South America  2022-07-10        2022   \n",
       "\n",
       "  TransactionID ProductID      TransactionDate  Quantity  TotalValue   Price   \n",
       "0        T00015      P054  2024-01-19 03:12:55       2.0      114.60   57.30  \\\n",
       "1        T00932      P022  2024-09-17 09:01:18       3.0      412.62  137.54   \n",
       "2        T00085      P096  2024-04-08 00:01:00       2.0      614.94  307.47   \n",
       "3        T00445      P083  2024-05-07 03:11:44       2.0      911.44  455.72   \n",
       "4        T00436      P029  2024-11-02 17:04:16       3.0     1300.92  433.64   \n",
       "\n",
       "   Transaction year  Transaction Month  \n",
       "0            2024.0                1.0  \n",
       "1            2024.0                9.0  \n",
       "2            2024.0                4.0  \n",
       "3            2024.0                5.0  \n",
       "4            2024.0               11.0  "
      ]
     },
     "execution_count": 60,
     "metadata": {},
     "output_type": "execute_result"
    }
   ],
   "source": [
    "df.head()"
   ]
  },
  {
   "cell_type": "code",
   "execution_count": 61,
   "id": "60c28a6f",
   "metadata": {},
   "outputs": [
    {
     "data": {
      "text/plain": [
       "CustomerID           0\n",
       "CustomerName         0\n",
       "Region               0\n",
       "SignupDate           0\n",
       "SignUp Year          0\n",
       "TransactionID        1\n",
       "ProductID            1\n",
       "TransactionDate      1\n",
       "Quantity             1\n",
       "TotalValue           1\n",
       "Price                1\n",
       "Transaction year     1\n",
       "Transaction Month    1\n",
       "dtype: int64"
      ]
     },
     "execution_count": 61,
     "metadata": {},
     "output_type": "execute_result"
    }
   ],
   "source": [
    "df.isnull().sum()"
   ]
  },
  {
   "cell_type": "code",
   "execution_count": 62,
   "id": "4bc162c7",
   "metadata": {
    "scrolled": true
   },
   "outputs": [
    {
     "data": {
      "text/html": [
       "<div>\n",
       "<style scoped>\n",
       "    .dataframe tbody tr th:only-of-type {\n",
       "        vertical-align: middle;\n",
       "    }\n",
       "\n",
       "    .dataframe tbody tr th {\n",
       "        vertical-align: top;\n",
       "    }\n",
       "\n",
       "    .dataframe thead th {\n",
       "        text-align: right;\n",
       "    }\n",
       "</style>\n",
       "<table border=\"1\" class=\"dataframe\">\n",
       "  <thead>\n",
       "    <tr style=\"text-align: right;\">\n",
       "      <th></th>\n",
       "      <th>CustomerID</th>\n",
       "      <th>CustomerName</th>\n",
       "      <th>Region</th>\n",
       "      <th>SignupDate</th>\n",
       "      <th>SignUp Year</th>\n",
       "      <th>TransactionID</th>\n",
       "      <th>ProductID</th>\n",
       "      <th>TransactionDate</th>\n",
       "      <th>Quantity</th>\n",
       "      <th>TotalValue</th>\n",
       "      <th>Price</th>\n",
       "      <th>Transaction year</th>\n",
       "      <th>Transaction Month</th>\n",
       "    </tr>\n",
       "  </thead>\n",
       "  <tbody>\n",
       "    <tr>\n",
       "      <th>904</th>\n",
       "      <td>C0180</td>\n",
       "      <td>Amy Carpenter</td>\n",
       "      <td>Asia</td>\n",
       "      <td>2023-10-25</td>\n",
       "      <td>2023</td>\n",
       "      <td>NaN</td>\n",
       "      <td>NaN</td>\n",
       "      <td>NaN</td>\n",
       "      <td>NaN</td>\n",
       "      <td>NaN</td>\n",
       "      <td>NaN</td>\n",
       "      <td>NaN</td>\n",
       "      <td>NaN</td>\n",
       "    </tr>\n",
       "  </tbody>\n",
       "</table>\n",
       "</div>"
      ],
      "text/plain": [
       "    CustomerID   CustomerName Region  SignupDate SignUp Year TransactionID   \n",
       "904      C0180  Amy Carpenter   Asia  2023-10-25        2023           NaN  \\\n",
       "\n",
       "    ProductID TransactionDate  Quantity  TotalValue  Price  Transaction year   \n",
       "904       NaN             NaN       NaN         NaN    NaN               NaN  \\\n",
       "\n",
       "     Transaction Month  \n",
       "904                NaN  "
      ]
     },
     "execution_count": 62,
     "metadata": {},
     "output_type": "execute_result"
    }
   ],
   "source": [
    "df[df['TransactionID'].isnull()]"
   ]
  },
  {
   "cell_type": "markdown",
   "id": "f9847918",
   "metadata": {},
   "source": [
    "- Customer Amy Carpenter with Customer ID \"C0180\" did not make any transactions."
   ]
  },
  {
   "cell_type": "code",
   "execution_count": 48,
   "id": "7aa61a19",
   "metadata": {},
   "outputs": [
    {
     "data": {
      "text/html": [
       "<div>\n",
       "<style scoped>\n",
       "    .dataframe tbody tr th:only-of-type {\n",
       "        vertical-align: middle;\n",
       "    }\n",
       "\n",
       "    .dataframe tbody tr th {\n",
       "        vertical-align: top;\n",
       "    }\n",
       "\n",
       "    .dataframe thead th {\n",
       "        text-align: right;\n",
       "    }\n",
       "</style>\n",
       "<table border=\"1\" class=\"dataframe\">\n",
       "  <thead>\n",
       "    <tr style=\"text-align: right;\">\n",
       "      <th></th>\n",
       "      <th>TransactionID</th>\n",
       "      <th>CustomerID</th>\n",
       "      <th>ProductID</th>\n",
       "      <th>TransactionDate</th>\n",
       "      <th>Quantity</th>\n",
       "      <th>TotalValue</th>\n",
       "      <th>Price</th>\n",
       "    </tr>\n",
       "  </thead>\n",
       "  <tbody>\n",
       "    <tr>\n",
       "      <th>838</th>\n",
       "      <td>T00159</td>\n",
       "      <td>C0163</td>\n",
       "      <td>P002</td>\n",
       "      <td>2024-10-12 03:12:30</td>\n",
       "      <td>4</td>\n",
       "      <td>1385.2</td>\n",
       "      <td>346.3</td>\n",
       "    </tr>\n",
       "    <tr>\n",
       "      <th>839</th>\n",
       "      <td>T00248</td>\n",
       "      <td>C0067</td>\n",
       "      <td>P002</td>\n",
       "      <td>2024-05-03 21:36:31</td>\n",
       "      <td>4</td>\n",
       "      <td>1385.2</td>\n",
       "      <td>346.3</td>\n",
       "    </tr>\n",
       "    <tr>\n",
       "      <th>840</th>\n",
       "      <td>T00285</td>\n",
       "      <td>C0068</td>\n",
       "      <td>P002</td>\n",
       "      <td>2024-04-02 02:23:50</td>\n",
       "      <td>3</td>\n",
       "      <td>1038.9</td>\n",
       "      <td>346.3</td>\n",
       "    </tr>\n",
       "    <tr>\n",
       "      <th>841</th>\n",
       "      <td>T00402</td>\n",
       "      <td>C0031</td>\n",
       "      <td>P002</td>\n",
       "      <td>2024-11-24 17:22:38</td>\n",
       "      <td>2</td>\n",
       "      <td>692.6</td>\n",
       "      <td>346.3</td>\n",
       "    </tr>\n",
       "    <tr>\n",
       "      <th>842</th>\n",
       "      <td>T00648</td>\n",
       "      <td>C0003</td>\n",
       "      <td>P002</td>\n",
       "      <td>2024-08-24 18:54:04</td>\n",
       "      <td>4</td>\n",
       "      <td>1385.2</td>\n",
       "      <td>346.3</td>\n",
       "    </tr>\n",
       "    <tr>\n",
       "      <th>843</th>\n",
       "      <td>T00706</td>\n",
       "      <td>C0181</td>\n",
       "      <td>P002</td>\n",
       "      <td>2024-07-01 00:11:31</td>\n",
       "      <td>3</td>\n",
       "      <td>1038.9</td>\n",
       "      <td>346.3</td>\n",
       "    </tr>\n",
       "    <tr>\n",
       "      <th>844</th>\n",
       "      <td>T00717</td>\n",
       "      <td>C0186</td>\n",
       "      <td>P002</td>\n",
       "      <td>2024-09-21 05:32:31</td>\n",
       "      <td>2</td>\n",
       "      <td>692.6</td>\n",
       "      <td>346.3</td>\n",
       "    </tr>\n",
       "    <tr>\n",
       "      <th>845</th>\n",
       "      <td>T00780</td>\n",
       "      <td>C0102</td>\n",
       "      <td>P002</td>\n",
       "      <td>2024-02-14 14:25:57</td>\n",
       "      <td>3</td>\n",
       "      <td>1038.9</td>\n",
       "      <td>346.3</td>\n",
       "    </tr>\n",
       "  </tbody>\n",
       "</table>\n",
       "</div>"
      ],
      "text/plain": [
       "    TransactionID CustomerID ProductID      TransactionDate  Quantity   \n",
       "838        T00159      C0163      P002  2024-10-12 03:12:30         4  \\\n",
       "839        T00248      C0067      P002  2024-05-03 21:36:31         4   \n",
       "840        T00285      C0068      P002  2024-04-02 02:23:50         3   \n",
       "841        T00402      C0031      P002  2024-11-24 17:22:38         2   \n",
       "842        T00648      C0003      P002  2024-08-24 18:54:04         4   \n",
       "843        T00706      C0181      P002  2024-07-01 00:11:31         3   \n",
       "844        T00717      C0186      P002  2024-09-21 05:32:31         2   \n",
       "845        T00780      C0102      P002  2024-02-14 14:25:57         3   \n",
       "\n",
       "     TotalValue  Price  \n",
       "838      1385.2  346.3  \n",
       "839      1385.2  346.3  \n",
       "840      1038.9  346.3  \n",
       "841       692.6  346.3  \n",
       "842      1385.2  346.3  \n",
       "843      1038.9  346.3  \n",
       "844       692.6  346.3  \n",
       "845      1038.9  346.3  "
      ]
     },
     "execution_count": 48,
     "metadata": {},
     "output_type": "execute_result"
    }
   ],
   "source": [
    "transaction_df[transaction_df['ProductID']=='P002']"
   ]
  },
  {
   "cell_type": "code",
   "execution_count": 49,
   "id": "23caeb9a",
   "metadata": {},
   "outputs": [],
   "source": [
    "# Extract the Transaction Year and Month from Transaction Date\n",
    "transaction_df['Transaction year']=transaction_df['TransactionDate'].str.split(\" \").str[0].str.split(\"-\").str[0]\n",
    "transaction_df['Transaction Month']=transaction_df['TransactionDate'].str.split(\" \").str[0].str.split(\"-\").str[1]"
   ]
  },
  {
   "cell_type": "code",
   "execution_count": 50,
   "id": "d940b63b",
   "metadata": {},
   "outputs": [],
   "source": [
    "transaction_df['Transaction year']=transaction_df['Transaction year'].astype(int)\n",
    "transaction_df['Transaction Month']=transaction_df['Transaction Month'].astype(int)"
   ]
  },
  {
   "cell_type": "code",
   "execution_count": 51,
   "id": "e6b7136c",
   "metadata": {},
   "outputs": [
    {
     "data": {
      "text/html": [
       "<div>\n",
       "<style scoped>\n",
       "    .dataframe tbody tr th:only-of-type {\n",
       "        vertical-align: middle;\n",
       "    }\n",
       "\n",
       "    .dataframe tbody tr th {\n",
       "        vertical-align: top;\n",
       "    }\n",
       "\n",
       "    .dataframe thead th {\n",
       "        text-align: right;\n",
       "    }\n",
       "</style>\n",
       "<table border=\"1\" class=\"dataframe\">\n",
       "  <thead>\n",
       "    <tr style=\"text-align: right;\">\n",
       "      <th></th>\n",
       "      <th>TransactionID</th>\n",
       "      <th>CustomerID</th>\n",
       "      <th>ProductID</th>\n",
       "      <th>TransactionDate</th>\n",
       "      <th>Quantity</th>\n",
       "      <th>TotalValue</th>\n",
       "      <th>Price</th>\n",
       "      <th>Transaction year</th>\n",
       "      <th>Transaction Month</th>\n",
       "    </tr>\n",
       "  </thead>\n",
       "  <tbody>\n",
       "    <tr>\n",
       "      <th>0</th>\n",
       "      <td>T00001</td>\n",
       "      <td>C0199</td>\n",
       "      <td>P067</td>\n",
       "      <td>2024-08-25 12:38:23</td>\n",
       "      <td>1</td>\n",
       "      <td>300.68</td>\n",
       "      <td>300.68</td>\n",
       "      <td>2024</td>\n",
       "      <td>8</td>\n",
       "    </tr>\n",
       "    <tr>\n",
       "      <th>1</th>\n",
       "      <td>T00112</td>\n",
       "      <td>C0146</td>\n",
       "      <td>P067</td>\n",
       "      <td>2024-05-27 22:23:54</td>\n",
       "      <td>1</td>\n",
       "      <td>300.68</td>\n",
       "      <td>300.68</td>\n",
       "      <td>2024</td>\n",
       "      <td>5</td>\n",
       "    </tr>\n",
       "    <tr>\n",
       "      <th>2</th>\n",
       "      <td>T00166</td>\n",
       "      <td>C0127</td>\n",
       "      <td>P067</td>\n",
       "      <td>2024-04-25 07:38:55</td>\n",
       "      <td>1</td>\n",
       "      <td>300.68</td>\n",
       "      <td>300.68</td>\n",
       "      <td>2024</td>\n",
       "      <td>4</td>\n",
       "    </tr>\n",
       "    <tr>\n",
       "      <th>3</th>\n",
       "      <td>T00272</td>\n",
       "      <td>C0087</td>\n",
       "      <td>P067</td>\n",
       "      <td>2024-03-26 22:55:37</td>\n",
       "      <td>2</td>\n",
       "      <td>601.36</td>\n",
       "      <td>300.68</td>\n",
       "      <td>2024</td>\n",
       "      <td>3</td>\n",
       "    </tr>\n",
       "    <tr>\n",
       "      <th>4</th>\n",
       "      <td>T00363</td>\n",
       "      <td>C0070</td>\n",
       "      <td>P067</td>\n",
       "      <td>2024-03-21 15:10:10</td>\n",
       "      <td>3</td>\n",
       "      <td>902.04</td>\n",
       "      <td>300.68</td>\n",
       "      <td>2024</td>\n",
       "      <td>3</td>\n",
       "    </tr>\n",
       "  </tbody>\n",
       "</table>\n",
       "</div>"
      ],
      "text/plain": [
       "  TransactionID CustomerID ProductID      TransactionDate  Quantity   \n",
       "0        T00001      C0199      P067  2024-08-25 12:38:23         1  \\\n",
       "1        T00112      C0146      P067  2024-05-27 22:23:54         1   \n",
       "2        T00166      C0127      P067  2024-04-25 07:38:55         1   \n",
       "3        T00272      C0087      P067  2024-03-26 22:55:37         2   \n",
       "4        T00363      C0070      P067  2024-03-21 15:10:10         3   \n",
       "\n",
       "   TotalValue   Price  Transaction year  Transaction Month  \n",
       "0      300.68  300.68              2024                  8  \n",
       "1      300.68  300.68              2024                  5  \n",
       "2      300.68  300.68              2024                  4  \n",
       "3      601.36  300.68              2024                  3  \n",
       "4      902.04  300.68              2024                  3  "
      ]
     },
     "execution_count": 51,
     "metadata": {},
     "output_type": "execute_result"
    }
   ],
   "source": [
    "transaction_df.head()"
   ]
  },
  {
   "cell_type": "code",
   "execution_count": 52,
   "id": "e7d76280",
   "metadata": {},
   "outputs": [
    {
     "data": {
      "text/plain": [
       "Transaction year\n",
       "2024    996\n",
       "2023      4\n",
       "Name: count, dtype: int64"
      ]
     },
     "execution_count": 52,
     "metadata": {},
     "output_type": "execute_result"
    }
   ],
   "source": [
    "transaction_df['Transaction year'].value_counts()"
   ]
  },
  {
   "cell_type": "code",
   "execution_count": 53,
   "id": "c8498569",
   "metadata": {},
   "outputs": [
    {
     "data": {
      "image/png": "[encoded data removed]",
      "text/plain": [
       "<Figure size 600x400 with 1 Axes>"
      ]
     },
     "metadata": {},
     "output_type": "display_data"
    }
   ],
   "source": [
    "yearly_transactions = transaction_df['Transaction year'].value_counts()\n",
    "# sort the count values\n",
    "yearly_transactions = yearly_transactions.sort_index()\n",
    "# plot the graph about number of transaction per year\n",
    "plt.figure(figsize=(6, 4))\n",
    "yearly_transactions.plot(kind='bar', color='green', alpha=0.8)\n",
    "plt.title(\"Transactions Per Year\", fontsize=16)\n",
    "plt.xlabel(\"Year\", fontsize=14)\n",
    "plt.ylabel(\"Number of Transactions\", fontsize=14)\n",
    "plt.xticks(rotation=45)\n",
    "plt.grid(axis='y', linestyle='--', alpha=0.7)\n",
    "plt.show()"
   ]
  },
  {
   "cell_type": "code",
   "execution_count": 54,
   "id": "9b9fcfd7",
   "metadata": {},
   "outputs": [
    {
     "data": {
      "text/html": [
       "<div>\n",
       "<style scoped>\n",
       "    .dataframe tbody tr th:only-of-type {\n",
       "        vertical-align: middle;\n",
       "    }\n",
       "\n",
       "    .dataframe tbody tr th {\n",
       "        vertical-align: top;\n",
       "    }\n",
       "\n",
       "    .dataframe thead th {\n",
       "        text-align: right;\n",
       "    }\n",
       "</style>\n",
       "<table border=\"1\" class=\"dataframe\">\n",
       "  <thead>\n",
       "    <tr style=\"text-align: right;\">\n",
       "      <th></th>\n",
       "      <th>TransactionID</th>\n",
       "      <th>CustomerID</th>\n",
       "      <th>ProductID</th>\n",
       "      <th>TransactionDate</th>\n",
       "      <th>Quantity</th>\n",
       "      <th>TotalValue</th>\n",
       "      <th>Price</th>\n",
       "      <th>Transaction year</th>\n",
       "      <th>Transaction Month</th>\n",
       "    </tr>\n",
       "  </thead>\n",
       "  <tbody>\n",
       "    <tr>\n",
       "      <th>32</th>\n",
       "      <td>T00605</td>\n",
       "      <td>C0017</td>\n",
       "      <td>P057</td>\n",
       "      <td>2023-12-31 03:27:43</td>\n",
       "      <td>4</td>\n",
       "      <td>958.80</td>\n",
       "      <td>239.70</td>\n",
       "      <td>2023</td>\n",
       "      <td>12</td>\n",
       "    </tr>\n",
       "    <tr>\n",
       "      <th>225</th>\n",
       "      <td>T00869</td>\n",
       "      <td>C0081</td>\n",
       "      <td>P061</td>\n",
       "      <td>2023-12-30 15:29:12</td>\n",
       "      <td>2</td>\n",
       "      <td>313.92</td>\n",
       "      <td>156.96</td>\n",
       "      <td>2023</td>\n",
       "      <td>12</td>\n",
       "    </tr>\n",
       "    <tr>\n",
       "      <th>729</th>\n",
       "      <td>T00845</td>\n",
       "      <td>C0154</td>\n",
       "      <td>P083</td>\n",
       "      <td>2023-12-31 15:44:04</td>\n",
       "      <td>2</td>\n",
       "      <td>911.44</td>\n",
       "      <td>455.72</td>\n",
       "      <td>2023</td>\n",
       "      <td>12</td>\n",
       "    </tr>\n",
       "    <tr>\n",
       "      <th>822</th>\n",
       "      <td>T00154</td>\n",
       "      <td>C0040</td>\n",
       "      <td>P020</td>\n",
       "      <td>2023-12-31 06:53:54</td>\n",
       "      <td>4</td>\n",
       "      <td>1585.36</td>\n",
       "      <td>396.34</td>\n",
       "      <td>2023</td>\n",
       "      <td>12</td>\n",
       "    </tr>\n",
       "  </tbody>\n",
       "</table>\n",
       "</div>"
      ],
      "text/plain": [
       "    TransactionID CustomerID ProductID      TransactionDate  Quantity   \n",
       "32         T00605      C0017      P057  2023-12-31 03:27:43         4  \\\n",
       "225        T00869      C0081      P061  2023-12-30 15:29:12         2   \n",
       "729        T00845      C0154      P083  2023-12-31 15:44:04         2   \n",
       "822        T00154      C0040      P020  2023-12-31 06:53:54         4   \n",
       "\n",
       "     TotalValue   Price  Transaction year  Transaction Month  \n",
       "32       958.80  239.70              2023                 12  \n",
       "225      313.92  156.96              2023                 12  \n",
       "729      911.44  455.72              2023                 12  \n",
       "822     1585.36  396.34              2023                 12  "
      ]
     },
     "execution_count": 54,
     "metadata": {},
     "output_type": "execute_result"
    }
   ],
   "source": [
    "transaction_df[transaction_df['Transaction year']==2023]"
   ]
  },
  {
   "cell_type": "code",
   "execution_count": 63,
   "id": "61e5d40f",
   "metadata": {},
   "outputs": [
    {
     "data": {
      "image/png": "[encoded data removed]",
      "text/plain": [
       "<Figure size 800x500 with 1 Axes>"
      ]
     },
     "metadata": {},
     "output_type": "display_data"
    }
   ],
   "source": [
    "monthly_transactions=transaction_df[transaction_df['Transaction year']==2024]['Transaction Month'].value_counts()\n",
    "monthly_transactions = monthly_transactions.sort_index()\n",
    "# Plot the Transactions per month\n",
    "plt.figure(figsize=(8, 5))\n",
    "monthly_transactions.plot(kind='bar', color='skyblue', alpha=0.8)\n",
    "plt.title(\"Transactions Per Month in 2024\", fontsize=16)\n",
    "plt.xlabel(\"Month\", fontsize=14)\n",
    "plt.ylabel(\"Number of Transactions\", fontsize=14)\n",
    "plt.xticks(ticks=range(0, 12), labels=['Jan', 'Feb', 'Mar', 'Apr', 'May', 'Jun', 'Jul', 'Aug', 'Sep', 'Oct', 'Nov', 'Dec'], rotation=45)\n",
    "plt.grid(axis='y', linestyle='--', alpha=0.7)\n",
    "plt.show()"
   ]
  },
  {
   "cell_type": "code",
   "execution_count": 64,
   "id": "7d7dc403",
   "metadata": {},
   "outputs": [
    {
     "data": {
      "text/html": [
       "<div>\n",
       "<style scoped>\n",
       "    .dataframe tbody tr th:only-of-type {\n",
       "        vertical-align: middle;\n",
       "    }\n",
       "\n",
       "    .dataframe tbody tr th {\n",
       "        vertical-align: top;\n",
       "    }\n",
       "\n",
       "    .dataframe thead th {\n",
       "        text-align: right;\n",
       "    }\n",
       "</style>\n",
       "<table border=\"1\" class=\"dataframe\">\n",
       "  <thead>\n",
       "    <tr style=\"text-align: right;\">\n",
       "      <th></th>\n",
       "      <th>CustomerID</th>\n",
       "      <th>TransactionCount</th>\n",
       "      <th>CustomerName</th>\n",
       "      <th>Region</th>\n",
       "      <th>SignupDate</th>\n",
       "      <th>SignUp Year</th>\n",
       "    </tr>\n",
       "  </thead>\n",
       "  <tbody>\n",
       "    <tr>\n",
       "      <th>0</th>\n",
       "      <td>C0109</td>\n",
       "      <td>11</td>\n",
       "      <td>Abigail Jones</td>\n",
       "      <td>North America</td>\n",
       "      <td>2022-05-09</td>\n",
       "      <td>2022</td>\n",
       "    </tr>\n",
       "    <tr>\n",
       "      <th>1</th>\n",
       "      <td>C0156</td>\n",
       "      <td>11</td>\n",
       "      <td>William Adams</td>\n",
       "      <td>North America</td>\n",
       "      <td>2023-08-19</td>\n",
       "      <td>2023</td>\n",
       "    </tr>\n",
       "    <tr>\n",
       "      <th>2</th>\n",
       "      <td>C0141</td>\n",
       "      <td>10</td>\n",
       "      <td>Paul Parsons</td>\n",
       "      <td>Europe</td>\n",
       "      <td>2023-02-23</td>\n",
       "      <td>2023</td>\n",
       "    </tr>\n",
       "    <tr>\n",
       "      <th>3</th>\n",
       "      <td>C0175</td>\n",
       "      <td>10</td>\n",
       "      <td>Matthew Johnson</td>\n",
       "      <td>Asia</td>\n",
       "      <td>2022-04-16</td>\n",
       "      <td>2022</td>\n",
       "    </tr>\n",
       "    <tr>\n",
       "      <th>4</th>\n",
       "      <td>C0065</td>\n",
       "      <td>10</td>\n",
       "      <td>Gerald Hines</td>\n",
       "      <td>North America</td>\n",
       "      <td>2024-07-10</td>\n",
       "      <td>2024</td>\n",
       "    </tr>\n",
       "  </tbody>\n",
       "</table>\n",
       "</div>"
      ],
      "text/plain": [
       "  CustomerID  TransactionCount     CustomerName         Region  SignupDate   \n",
       "0      C0109                11    Abigail Jones  North America  2022-05-09  \\\n",
       "1      C0156                11    William Adams  North America  2023-08-19   \n",
       "2      C0141                10     Paul Parsons         Europe  2023-02-23   \n",
       "3      C0175                10  Matthew Johnson           Asia  2022-04-16   \n",
       "4      C0065                10     Gerald Hines  North America  2024-07-10   \n",
       "\n",
       "  SignUp Year  \n",
       "0        2022  \n",
       "1        2023  \n",
       "2        2023  \n",
       "3        2022  \n",
       "4        2024  "
      ]
     },
     "execution_count": 64,
     "metadata": {},
     "output_type": "execute_result"
    }
   ],
   "source": [
    "#Most Transaction Customer\n",
    "top_customer=transaction_df['CustomerID'].value_counts().head(5).reset_index()\n",
    "top_customer.columns = ['CustomerID', 'TransactionCount']\n",
    "top_customers_details = pd.merge(top_customer, customer_df, on='CustomerID', how='inner')\n",
    "top_customers_details"
   ]
  },
  {
   "cell_type": "code",
   "execution_count": 65,
   "id": "039404a4",
   "metadata": {},
   "outputs": [
    {
     "data": {
      "text/html": [
       "<div>\n",
       "<style scoped>\n",
       "    .dataframe tbody tr th:only-of-type {\n",
       "        vertical-align: middle;\n",
       "    }\n",
       "\n",
       "    .dataframe tbody tr th {\n",
       "        vertical-align: top;\n",
       "    }\n",
       "\n",
       "    .dataframe thead th {\n",
       "        text-align: right;\n",
       "    }\n",
       "</style>\n",
       "<table border=\"1\" class=\"dataframe\">\n",
       "  <thead>\n",
       "    <tr style=\"text-align: right;\">\n",
       "      <th></th>\n",
       "      <th>ProductID</th>\n",
       "      <th>No of Purchases</th>\n",
       "      <th>ProductName</th>\n",
       "      <th>Category</th>\n",
       "      <th>Price</th>\n",
       "    </tr>\n",
       "  </thead>\n",
       "  <tbody>\n",
       "    <tr>\n",
       "      <th>0</th>\n",
       "      <td>P059</td>\n",
       "      <td>19</td>\n",
       "      <td>SoundWave Jeans</td>\n",
       "      <td>Clothing</td>\n",
       "      <td>303.20</td>\n",
       "    </tr>\n",
       "    <tr>\n",
       "      <th>1</th>\n",
       "      <td>P029</td>\n",
       "      <td>17</td>\n",
       "      <td>TechPro Headphones</td>\n",
       "      <td>Electronics</td>\n",
       "      <td>433.64</td>\n",
       "    </tr>\n",
       "    <tr>\n",
       "      <th>2</th>\n",
       "      <td>P062</td>\n",
       "      <td>16</td>\n",
       "      <td>HomeSense Novel</td>\n",
       "      <td>Books</td>\n",
       "      <td>374.16</td>\n",
       "    </tr>\n",
       "    <tr>\n",
       "      <th>3</th>\n",
       "      <td>P079</td>\n",
       "      <td>16</td>\n",
       "      <td>ActiveWear Rug</td>\n",
       "      <td>Home Decor</td>\n",
       "      <td>417.37</td>\n",
       "    </tr>\n",
       "    <tr>\n",
       "      <th>4</th>\n",
       "      <td>P054</td>\n",
       "      <td>16</td>\n",
       "      <td>SoundWave Cookbook</td>\n",
       "      <td>Books</td>\n",
       "      <td>57.30</td>\n",
       "    </tr>\n",
       "    <tr>\n",
       "      <th>5</th>\n",
       "      <td>P061</td>\n",
       "      <td>16</td>\n",
       "      <td>HomeSense Desk Lamp</td>\n",
       "      <td>Home Decor</td>\n",
       "      <td>156.96</td>\n",
       "    </tr>\n",
       "    <tr>\n",
       "      <th>6</th>\n",
       "      <td>P048</td>\n",
       "      <td>15</td>\n",
       "      <td>TechPro Cookbook</td>\n",
       "      <td>Books</td>\n",
       "      <td>416.40</td>\n",
       "    </tr>\n",
       "    <tr>\n",
       "      <th>7</th>\n",
       "      <td>P022</td>\n",
       "      <td>15</td>\n",
       "      <td>HomeSense Wall Art</td>\n",
       "      <td>Home Decor</td>\n",
       "      <td>137.54</td>\n",
       "    </tr>\n",
       "    <tr>\n",
       "      <th>8</th>\n",
       "      <td>P096</td>\n",
       "      <td>15</td>\n",
       "      <td>SoundWave Headphones</td>\n",
       "      <td>Electronics</td>\n",
       "      <td>307.47</td>\n",
       "    </tr>\n",
       "    <tr>\n",
       "      <th>9</th>\n",
       "      <td>P049</td>\n",
       "      <td>15</td>\n",
       "      <td>TechPro Textbook</td>\n",
       "      <td>Books</td>\n",
       "      <td>147.95</td>\n",
       "    </tr>\n",
       "  </tbody>\n",
       "</table>\n",
       "</div>"
      ],
      "text/plain": [
       "  ProductID  No of Purchases           ProductName     Category   Price\n",
       "0      P059               19       SoundWave Jeans     Clothing  303.20\n",
       "1      P029               17    TechPro Headphones  Electronics  433.64\n",
       "2      P062               16       HomeSense Novel        Books  374.16\n",
       "3      P079               16        ActiveWear Rug   Home Decor  417.37\n",
       "4      P054               16    SoundWave Cookbook        Books   57.30\n",
       "5      P061               16   HomeSense Desk Lamp   Home Decor  156.96\n",
       "6      P048               15      TechPro Cookbook        Books  416.40\n",
       "7      P022               15    HomeSense Wall Art   Home Decor  137.54\n",
       "8      P096               15  SoundWave Headphones  Electronics  307.47\n",
       "9      P049               15      TechPro Textbook        Books  147.95"
      ]
     },
     "execution_count": 65,
     "metadata": {},
     "output_type": "execute_result"
    }
   ],
   "source": [
    "# Most Transaction Products\n",
    "top_products=transaction_df['ProductID'].value_counts().head(10).reset_index()\n",
    "top_products.columns=[\"ProductID\",'No of Purchases']\n",
    "top_purchase_product=pd.merge(top_products,product_df,on='ProductID',how='inner')\n",
    "top_purchase_product"
   ]
  },
  {
   "cell_type": "code",
   "execution_count": 66,
   "id": "14fc5687",
   "metadata": {},
   "outputs": [
    {
     "data": {
      "text/html": [
       "<div>\n",
       "<style scoped>\n",
       "    .dataframe tbody tr th:only-of-type {\n",
       "        vertical-align: middle;\n",
       "    }\n",
       "\n",
       "    .dataframe tbody tr th {\n",
       "        vertical-align: top;\n",
       "    }\n",
       "\n",
       "    .dataframe thead th {\n",
       "        text-align: right;\n",
       "    }\n",
       "</style>\n",
       "<table border=\"1\" class=\"dataframe\">\n",
       "  <thead>\n",
       "    <tr style=\"text-align: right;\">\n",
       "      <th></th>\n",
       "      <th>CustomerID</th>\n",
       "      <th>TotalSpending</th>\n",
       "      <th>CustomerName</th>\n",
       "      <th>Region</th>\n",
       "      <th>SignupDate</th>\n",
       "      <th>SignUp Year</th>\n",
       "    </tr>\n",
       "  </thead>\n",
       "  <tbody>\n",
       "    <tr>\n",
       "      <th>0</th>\n",
       "      <td>C0141</td>\n",
       "      <td>10673.87</td>\n",
       "      <td>Paul Parsons</td>\n",
       "      <td>Europe</td>\n",
       "      <td>2023-02-23</td>\n",
       "      <td>2023</td>\n",
       "    </tr>\n",
       "    <tr>\n",
       "      <th>1</th>\n",
       "      <td>C0054</td>\n",
       "      <td>8040.39</td>\n",
       "      <td>Bruce Rhodes</td>\n",
       "      <td>Asia</td>\n",
       "      <td>2024-09-29</td>\n",
       "      <td>2024</td>\n",
       "    </tr>\n",
       "    <tr>\n",
       "      <th>2</th>\n",
       "      <td>C0065</td>\n",
       "      <td>7663.70</td>\n",
       "      <td>Gerald Hines</td>\n",
       "      <td>North America</td>\n",
       "      <td>2024-07-10</td>\n",
       "      <td>2024</td>\n",
       "    </tr>\n",
       "    <tr>\n",
       "      <th>3</th>\n",
       "      <td>C0156</td>\n",
       "      <td>7634.45</td>\n",
       "      <td>William Adams</td>\n",
       "      <td>North America</td>\n",
       "      <td>2023-08-19</td>\n",
       "      <td>2023</td>\n",
       "    </tr>\n",
       "    <tr>\n",
       "      <th>4</th>\n",
       "      <td>C0082</td>\n",
       "      <td>7572.91</td>\n",
       "      <td>Aimee Taylor</td>\n",
       "      <td>South America</td>\n",
       "      <td>2022-05-13</td>\n",
       "      <td>2022</td>\n",
       "    </tr>\n",
       "    <tr>\n",
       "      <th>5</th>\n",
       "      <td>C0188</td>\n",
       "      <td>7111.32</td>\n",
       "      <td>Anna Ball</td>\n",
       "      <td>South America</td>\n",
       "      <td>2022-05-17</td>\n",
       "      <td>2022</td>\n",
       "    </tr>\n",
       "    <tr>\n",
       "      <th>6</th>\n",
       "      <td>C0059</td>\n",
       "      <td>7073.28</td>\n",
       "      <td>Mrs. Kimberly Wright</td>\n",
       "      <td>North America</td>\n",
       "      <td>2024-04-07</td>\n",
       "      <td>2024</td>\n",
       "    </tr>\n",
       "    <tr>\n",
       "      <th>7</th>\n",
       "      <td>C0028</td>\n",
       "      <td>6819.57</td>\n",
       "      <td>Jennifer Pena</td>\n",
       "      <td>Asia</td>\n",
       "      <td>2024-06-29</td>\n",
       "      <td>2024</td>\n",
       "    </tr>\n",
       "    <tr>\n",
       "      <th>8</th>\n",
       "      <td>C0099</td>\n",
       "      <td>6715.72</td>\n",
       "      <td>Rodney Eaton</td>\n",
       "      <td>South America</td>\n",
       "      <td>2023-01-29</td>\n",
       "      <td>2023</td>\n",
       "    </tr>\n",
       "    <tr>\n",
       "      <th>9</th>\n",
       "      <td>C0165</td>\n",
       "      <td>6708.10</td>\n",
       "      <td>Juan Mcdaniel</td>\n",
       "      <td>South America</td>\n",
       "      <td>2022-04-09</td>\n",
       "      <td>2022</td>\n",
       "    </tr>\n",
       "  </tbody>\n",
       "</table>\n",
       "</div>"
      ],
      "text/plain": [
       "  CustomerID  TotalSpending          CustomerName         Region  SignupDate   \n",
       "0      C0141       10673.87          Paul Parsons         Europe  2023-02-23  \\\n",
       "1      C0054        8040.39          Bruce Rhodes           Asia  2024-09-29   \n",
       "2      C0065        7663.70          Gerald Hines  North America  2024-07-10   \n",
       "3      C0156        7634.45         William Adams  North America  2023-08-19   \n",
       "4      C0082        7572.91          Aimee Taylor  South America  2022-05-13   \n",
       "5      C0188        7111.32             Anna Ball  South America  2022-05-17   \n",
       "6      C0059        7073.28  Mrs. Kimberly Wright  North America  2024-04-07   \n",
       "7      C0028        6819.57         Jennifer Pena           Asia  2024-06-29   \n",
       "8      C0099        6715.72          Rodney Eaton  South America  2023-01-29   \n",
       "9      C0165        6708.10         Juan Mcdaniel  South America  2022-04-09   \n",
       "\n",
       "  SignUp Year  \n",
       "0        2023  \n",
       "1        2024  \n",
       "2        2024  \n",
       "3        2023  \n",
       "4        2022  \n",
       "5        2022  \n",
       "6        2024  \n",
       "7        2024  \n",
       "8        2023  \n",
       "9        2022  "
      ]
     },
     "execution_count": 66,
     "metadata": {},
     "output_type": "execute_result"
    }
   ],
   "source": [
    "# Top Spending Customer\n",
    "top_purchase_customer=transaction_df.groupby(\"CustomerID\")['TotalValue'].sum().nlargest(10).reset_index()\n",
    "top_purchase_customer.columns = ['CustomerID', 'TotalSpending']\n",
    "top_purchase_customer_details = pd.merge(top_purchase_customer, customer_df, on='CustomerID', how='inner')\n",
    "top_purchase_customer_details"
   ]
  },
  {
   "cell_type": "code",
   "execution_count": 67,
   "id": "60476a1e",
   "metadata": {},
   "outputs": [
    {
     "data": {
      "text/html": [
       "<div>\n",
       "<style scoped>\n",
       "    .dataframe tbody tr th:only-of-type {\n",
       "        vertical-align: middle;\n",
       "    }\n",
       "\n",
       "    .dataframe tbody tr th {\n",
       "        vertical-align: top;\n",
       "    }\n",
       "\n",
       "    .dataframe thead th {\n",
       "        text-align: right;\n",
       "    }\n",
       "</style>\n",
       "<table border=\"1\" class=\"dataframe\">\n",
       "  <thead>\n",
       "    <tr style=\"text-align: right;\">\n",
       "      <th></th>\n",
       "      <th>ProductID</th>\n",
       "      <th>TotalQuantitySold</th>\n",
       "      <th>ProductName</th>\n",
       "      <th>Category</th>\n",
       "      <th>Price</th>\n",
       "    </tr>\n",
       "  </thead>\n",
       "  <tbody>\n",
       "    <tr>\n",
       "      <th>0</th>\n",
       "      <td>P054</td>\n",
       "      <td>46</td>\n",
       "      <td>SoundWave Cookbook</td>\n",
       "      <td>Books</td>\n",
       "      <td>57.30</td>\n",
       "    </tr>\n",
       "    <tr>\n",
       "      <th>1</th>\n",
       "      <td>P059</td>\n",
       "      <td>46</td>\n",
       "      <td>SoundWave Jeans</td>\n",
       "      <td>Clothing</td>\n",
       "      <td>303.20</td>\n",
       "    </tr>\n",
       "    <tr>\n",
       "      <th>2</th>\n",
       "      <td>P029</td>\n",
       "      <td>45</td>\n",
       "      <td>TechPro Headphones</td>\n",
       "      <td>Electronics</td>\n",
       "      <td>433.64</td>\n",
       "    </tr>\n",
       "    <tr>\n",
       "      <th>3</th>\n",
       "      <td>P048</td>\n",
       "      <td>43</td>\n",
       "      <td>TechPro Cookbook</td>\n",
       "      <td>Books</td>\n",
       "      <td>416.40</td>\n",
       "    </tr>\n",
       "    <tr>\n",
       "      <th>4</th>\n",
       "      <td>P057</td>\n",
       "      <td>43</td>\n",
       "      <td>ActiveWear Smartphone</td>\n",
       "      <td>Electronics</td>\n",
       "      <td>239.70</td>\n",
       "    </tr>\n",
       "  </tbody>\n",
       "</table>\n",
       "</div>"
      ],
      "text/plain": [
       "  ProductID  TotalQuantitySold            ProductName     Category   Price\n",
       "0      P054                 46     SoundWave Cookbook        Books   57.30\n",
       "1      P059                 46        SoundWave Jeans     Clothing  303.20\n",
       "2      P029                 45     TechPro Headphones  Electronics  433.64\n",
       "3      P048                 43       TechPro Cookbook        Books  416.40\n",
       "4      P057                 43  ActiveWear Smartphone  Electronics  239.70"
      ]
     },
     "execution_count": 67,
     "metadata": {},
     "output_type": "execute_result"
    }
   ],
   "source": [
    "# Most Purchased Product \n",
    "most_purchased_products = transaction_df.groupby('ProductID')['Quantity'].sum().nlargest(5).reset_index()\n",
    "most_purchased_products.columns = ['ProductID', 'TotalQuantitySold']\n",
    "most_purchased_products_details=pd.merge(most_purchased_products,product_df,on='ProductID',how='inner')\n",
    "most_purchased_products_details"
   ]
  },
  {
   "cell_type": "code",
   "execution_count": 68,
   "id": "7c712d8f",
   "metadata": {},
   "outputs": [
    {
     "data": {
      "text/html": [
       "<div>\n",
       "<style scoped>\n",
       "    .dataframe tbody tr th:only-of-type {\n",
       "        vertical-align: middle;\n",
       "    }\n",
       "\n",
       "    .dataframe tbody tr th {\n",
       "        vertical-align: top;\n",
       "    }\n",
       "\n",
       "    .dataframe thead th {\n",
       "        text-align: right;\n",
       "    }\n",
       "</style>\n",
       "<table border=\"1\" class=\"dataframe\">\n",
       "  <thead>\n",
       "    <tr style=\"text-align: right;\">\n",
       "      <th></th>\n",
       "      <th>ProductID</th>\n",
       "      <th>RevenueGenerated</th>\n",
       "      <th>ProductName</th>\n",
       "      <th>Category</th>\n",
       "      <th>Price</th>\n",
       "    </tr>\n",
       "  </thead>\n",
       "  <tbody>\n",
       "    <tr>\n",
       "      <th>0</th>\n",
       "      <td>P029</td>\n",
       "      <td>19513.80</td>\n",
       "      <td>TechPro Headphones</td>\n",
       "      <td>Electronics</td>\n",
       "      <td>433.64</td>\n",
       "    </tr>\n",
       "    <tr>\n",
       "      <th>1</th>\n",
       "      <td>P079</td>\n",
       "      <td>17946.91</td>\n",
       "      <td>ActiveWear Rug</td>\n",
       "      <td>Home Decor</td>\n",
       "      <td>417.37</td>\n",
       "    </tr>\n",
       "    <tr>\n",
       "      <th>2</th>\n",
       "      <td>P048</td>\n",
       "      <td>17905.20</td>\n",
       "      <td>TechPro Cookbook</td>\n",
       "      <td>Books</td>\n",
       "      <td>416.40</td>\n",
       "    </tr>\n",
       "    <tr>\n",
       "      <th>3</th>\n",
       "      <td>P020</td>\n",
       "      <td>15060.92</td>\n",
       "      <td>ActiveWear Jacket</td>\n",
       "      <td>Clothing</td>\n",
       "      <td>396.34</td>\n",
       "    </tr>\n",
       "    <tr>\n",
       "      <th>4</th>\n",
       "      <td>P062</td>\n",
       "      <td>14592.24</td>\n",
       "      <td>HomeSense Novel</td>\n",
       "      <td>Books</td>\n",
       "      <td>374.16</td>\n",
       "    </tr>\n",
       "  </tbody>\n",
       "</table>\n",
       "</div>"
      ],
      "text/plain": [
       "  ProductID  RevenueGenerated         ProductName     Category   Price\n",
       "0      P029          19513.80  TechPro Headphones  Electronics  433.64\n",
       "1      P079          17946.91      ActiveWear Rug   Home Decor  417.37\n",
       "2      P048          17905.20    TechPro Cookbook        Books  416.40\n",
       "3      P020          15060.92   ActiveWear Jacket     Clothing  396.34\n",
       "4      P062          14592.24     HomeSense Novel        Books  374.16"
      ]
     },
     "execution_count": 68,
     "metadata": {},
     "output_type": "execute_result"
    }
   ],
   "source": [
    "product_revenue = transaction_df.groupby('ProductID')['TotalValue'].sum().nlargest(5).reset_index()\n",
    "product_revenue.columns = ['ProductID', 'RevenueGenerated']\n",
    "product_revenue=pd.merge(product_revenue,product_df,on='ProductID',how='inner')\n",
    "product_revenue"
   ]
  },
  {
   "cell_type": "code",
   "execution_count": 69,
   "id": "43d0efc4",
   "metadata": {},
   "outputs": [
    {
     "data": {
      "image/png": "[encoded data removed]",
      "text/plain": [
       "<Figure size 800x500 with 1 Axes>"
      ]
     },
     "metadata": {},
     "output_type": "display_data"
    }
   ],
   "source": [
    "# Revenue Generated by each Month\n",
    "\n",
    "monthly_revenue = transaction_df.groupby('Transaction Month')['TotalValue'].sum().reset_index()\n",
    "\n",
    "plt.figure(figsize=(8, 5))\n",
    "# monthly_revenue.plot(kind='bar', color='gray', alpha=0.8)\n",
    "plt.bar(monthly_revenue['Transaction Month'],monthly_revenue['TotalValue'],color='gray')\n",
    "plt.title(\"Revenue Per Month in 2024\", fontsize=16)\n",
    "plt.xlabel(\"Month\", fontsize=14)\n",
    "plt.ylabel(\"Revenue generated\", fontsize=14)\n",
    "plt.xticks(ticks=range(0, 12), labels=['Jan', 'Feb', 'Mar', 'Apr', 'May', 'Jun', 'Jul', 'Aug', 'Sep', 'Oct', 'Nov', 'Dec'], rotation=45)\n",
    "plt.grid(axis='y', linestyle='--', alpha=0.7)\n",
    "plt.show()"
   ]
  },
  {
   "cell_type": "code",
   "execution_count": 70,
   "id": "a0651515",
   "metadata": {},
   "outputs": [
    {
     "data": {
      "text/html": [
       "<div>\n",
       "<style scoped>\n",
       "    .dataframe tbody tr th:only-of-type {\n",
       "        vertical-align: middle;\n",
       "    }\n",
       "\n",
       "    .dataframe tbody tr th {\n",
       "        vertical-align: top;\n",
       "    }\n",
       "\n",
       "    .dataframe thead th {\n",
       "        text-align: right;\n",
       "    }\n",
       "</style>\n",
       "<table border=\"1\" class=\"dataframe\">\n",
       "  <thead>\n",
       "    <tr style=\"text-align: right;\">\n",
       "      <th></th>\n",
       "      <th>Category</th>\n",
       "      <th>TransactionCount</th>\n",
       "    </tr>\n",
       "  </thead>\n",
       "  <tbody>\n",
       "    <tr>\n",
       "      <th>0</th>\n",
       "      <td>Books</td>\n",
       "      <td>270</td>\n",
       "    </tr>\n",
       "    <tr>\n",
       "      <th>1</th>\n",
       "      <td>Electronics</td>\n",
       "      <td>254</td>\n",
       "    </tr>\n",
       "    <tr>\n",
       "      <th>2</th>\n",
       "      <td>Home Decor</td>\n",
       "      <td>248</td>\n",
       "    </tr>\n",
       "    <tr>\n",
       "      <th>3</th>\n",
       "      <td>Clothing</td>\n",
       "      <td>228</td>\n",
       "    </tr>\n",
       "  </tbody>\n",
       "</table>\n",
       "</div>"
      ],
      "text/plain": [
       "      Category  TransactionCount\n",
       "0        Books               270\n",
       "1  Electronics               254\n",
       "2   Home Decor               248\n",
       "3     Clothing               228"
      ]
     },
     "execution_count": 70,
     "metadata": {},
     "output_type": "execute_result"
    }
   ],
   "source": [
    "merged_df = pd.merge(transaction_df, product_df, on='ProductID', how='inner')\n",
    "\n",
    "category_transaction_counts = merged_df['Category'].value_counts().reset_index()\n",
    "category_transaction_counts.columns = ['Category', 'TransactionCount']\n",
    "category_transaction_counts"
   ]
  },
  {
   "cell_type": "code",
   "execution_count": 71,
   "id": "7796eda6",
   "metadata": {},
   "outputs": [
    {
     "data": {
      "image/png": "[encoded data removed]",
      "text/plain": [
       "<Figure size 600x400 with 1 Axes>"
      ]
     },
     "metadata": {},
     "output_type": "display_data"
    }
   ],
   "source": [
    "#Plot the graph of Transaction Count for Each Category\n",
    "\n",
    "plt.figure(figsize=(6, 4))\n",
    "plt.bar(category_transaction_counts['Category'], category_transaction_counts['TransactionCount'], color='coral', alpha=0.8)\n",
    "\n",
    "plt.title(\"Transaction Counts by Category\", fontsize=16)\n",
    "plt.xlabel(\"Category\", fontsize=14)\n",
    "plt.ylabel(\"Transaction Count\", fontsize=14)\n",
    "plt.xticks(rotation=45, ha='right')\n",
    "plt.grid(axis='y', linestyle='--', alpha=0.7)"
   ]
  },
  {
   "cell_type": "code",
   "execution_count": 72,
   "id": "6d18d3c5",
   "metadata": {},
   "outputs": [
    {
     "data": {
      "text/html": [
       "<div>\n",
       "<style scoped>\n",
       "    .dataframe tbody tr th:only-of-type {\n",
       "        vertical-align: middle;\n",
       "    }\n",
       "\n",
       "    .dataframe tbody tr th {\n",
       "        vertical-align: top;\n",
       "    }\n",
       "\n",
       "    .dataframe thead th {\n",
       "        text-align: right;\n",
       "    }\n",
       "</style>\n",
       "<table border=\"1\" class=\"dataframe\">\n",
       "  <thead>\n",
       "    <tr style=\"text-align: right;\">\n",
       "      <th></th>\n",
       "      <th>Category</th>\n",
       "      <th>TotalValue</th>\n",
       "    </tr>\n",
       "  </thead>\n",
       "  <tbody>\n",
       "    <tr>\n",
       "      <th>0</th>\n",
       "      <td>Books</td>\n",
       "      <td>192147.47</td>\n",
       "    </tr>\n",
       "    <tr>\n",
       "      <th>1</th>\n",
       "      <td>Clothing</td>\n",
       "      <td>166170.66</td>\n",
       "    </tr>\n",
       "    <tr>\n",
       "      <th>2</th>\n",
       "      <td>Electronics</td>\n",
       "      <td>180783.50</td>\n",
       "    </tr>\n",
       "    <tr>\n",
       "      <th>3</th>\n",
       "      <td>Home Decor</td>\n",
       "      <td>150893.93</td>\n",
       "    </tr>\n",
       "  </tbody>\n",
       "</table>\n",
       "</div>"
      ],
      "text/plain": [
       "      Category  TotalValue\n",
       "0        Books   192147.47\n",
       "1     Clothing   166170.66\n",
       "2  Electronics   180783.50\n",
       "3   Home Decor   150893.93"
      ]
     },
     "execution_count": 72,
     "metadata": {},
     "output_type": "execute_result"
    }
   ],
   "source": [
    "category_revenue=merged_df.groupby(\"Category\")['TotalValue'].sum().reset_index()\n",
    "category_revenue"
   ]
  },
  {
   "cell_type": "code",
   "execution_count": 73,
   "id": "68a9cec9",
   "metadata": {},
   "outputs": [
    {
     "data": {
      "image/png": "[encoded data removed]",
      "text/plain": [
       "<Figure size 600x400 with 1 Axes>"
      ]
     },
     "metadata": {},
     "output_type": "display_data"
    }
   ],
   "source": [
    "#Plot the graph Revenue Generated for Each Category\n",
    "\n",
    "plt.figure(figsize=(6, 4))\n",
    "plt.bar(category_revenue['Category'], category_revenue['TotalValue'], color='coral', alpha=0.8)\n",
    "\n",
    "plt.title(\"Revenue Generated by Each Category\", fontsize=16)\n",
    "plt.xlabel(\"Category\", fontsize=14)\n",
    "plt.ylabel(\"Revenue\", fontsize=14)\n",
    "plt.xticks(rotation=45, ha='right')\n",
    "plt.grid(axis='y', linestyle='--', alpha=0.7)"
   ]
  },
  {
   "cell_type": "code",
   "execution_count": 74,
   "id": "de69670d",
   "metadata": {},
   "outputs": [
    {
     "data": {
      "text/html": [
       "<div>\n",
       "<style scoped>\n",
       "    .dataframe tbody tr th:only-of-type {\n",
       "        vertical-align: middle;\n",
       "    }\n",
       "\n",
       "    .dataframe tbody tr th {\n",
       "        vertical-align: top;\n",
       "    }\n",
       "\n",
       "    .dataframe thead th {\n",
       "        text-align: right;\n",
       "    }\n",
       "</style>\n",
       "<table border=\"1\" class=\"dataframe\">\n",
       "  <thead>\n",
       "    <tr style=\"text-align: right;\">\n",
       "      <th></th>\n",
       "      <th>Category</th>\n",
       "      <th>Quantity</th>\n",
       "    </tr>\n",
       "  </thead>\n",
       "  <tbody>\n",
       "    <tr>\n",
       "      <th>0</th>\n",
       "      <td>Books</td>\n",
       "      <td>681</td>\n",
       "    </tr>\n",
       "    <tr>\n",
       "      <th>1</th>\n",
       "      <td>Clothing</td>\n",
       "      <td>590</td>\n",
       "    </tr>\n",
       "    <tr>\n",
       "      <th>2</th>\n",
       "      <td>Electronics</td>\n",
       "      <td>627</td>\n",
       "    </tr>\n",
       "    <tr>\n",
       "      <th>3</th>\n",
       "      <td>Home Decor</td>\n",
       "      <td>639</td>\n",
       "    </tr>\n",
       "  </tbody>\n",
       "</table>\n",
       "</div>"
      ],
      "text/plain": [
       "      Category  Quantity\n",
       "0        Books       681\n",
       "1     Clothing       590\n",
       "2  Electronics       627\n",
       "3   Home Decor       639"
      ]
     },
     "execution_count": 74,
     "metadata": {},
     "output_type": "execute_result"
    }
   ],
   "source": [
    "category_quantity=merged_df.groupby(\"Category\")['Quantity'].sum().reset_index()\n",
    "category_quantity"
   ]
  },
  {
   "cell_type": "code",
   "execution_count": 75,
   "id": "6f888202",
   "metadata": {},
   "outputs": [
    {
     "data": {
      "image/png": "[encoded data removed]",
      "text/plain": [
       "<Figure size 600x400 with 1 Axes>"
      ]
     },
     "metadata": {},
     "output_type": "display_data"
    }
   ],
   "source": [
    "# Plotting No of Products purchased for each category\n",
    "plt.figure(figsize=(6, 4))\n",
    "plt.bar(category_quantity['Category'], category_quantity['Quantity'], color='skyblue', alpha=0.8)\n",
    "\n",
    "plt.title(\"No of Products Purchased by Each Category\", fontsize=16)\n",
    "plt.xlabel(\"Category\", fontsize=14)\n",
    "plt.ylabel(\"No of Products\", fontsize=14)\n",
    "plt.xticks(rotation=45, ha='right')\n",
    "plt.grid(axis='y', linestyle='--', alpha=0.7)"
   ]
  },
  {
   "cell_type": "code",
   "execution_count": 76,
   "id": "1da63132",
   "metadata": {},
   "outputs": [],
   "source": [
    "merged_df = pd.merge(transaction_df, customer_df, on='CustomerID', how='inner')"
   ]
  },
  {
   "cell_type": "code",
   "execution_count": 77,
   "id": "65052b99",
   "metadata": {},
   "outputs": [
    {
     "data": {
      "text/html": [
       "<div>\n",
       "<style scoped>\n",
       "    .dataframe tbody tr th:only-of-type {\n",
       "        vertical-align: middle;\n",
       "    }\n",
       "\n",
       "    .dataframe tbody tr th {\n",
       "        vertical-align: top;\n",
       "    }\n",
       "\n",
       "    .dataframe thead th {\n",
       "        text-align: right;\n",
       "    }\n",
       "</style>\n",
       "<table border=\"1\" class=\"dataframe\">\n",
       "  <thead>\n",
       "    <tr style=\"text-align: right;\">\n",
       "      <th></th>\n",
       "      <th>Region</th>\n",
       "      <th>TransactionCount</th>\n",
       "    </tr>\n",
       "  </thead>\n",
       "  <tbody>\n",
       "    <tr>\n",
       "      <th>0</th>\n",
       "      <td>South America</td>\n",
       "      <td>304</td>\n",
       "    </tr>\n",
       "    <tr>\n",
       "      <th>1</th>\n",
       "      <td>North America</td>\n",
       "      <td>244</td>\n",
       "    </tr>\n",
       "    <tr>\n",
       "      <th>2</th>\n",
       "      <td>Europe</td>\n",
       "      <td>234</td>\n",
       "    </tr>\n",
       "    <tr>\n",
       "      <th>3</th>\n",
       "      <td>Asia</td>\n",
       "      <td>218</td>\n",
       "    </tr>\n",
       "  </tbody>\n",
       "</table>\n",
       "</div>"
      ],
      "text/plain": [
       "          Region  TransactionCount\n",
       "0  South America               304\n",
       "1  North America               244\n",
       "2         Europe               234\n",
       "3           Asia               218"
      ]
     },
     "execution_count": 77,
     "metadata": {},
     "output_type": "execute_result"
    }
   ],
   "source": [
    "region_transaction_counts = merged_df['Region'].value_counts().reset_index()\n",
    "region_transaction_counts.columns = ['Region', 'TransactionCount']\n",
    "region_transaction_counts"
   ]
  },
  {
   "cell_type": "code",
   "execution_count": 78,
   "id": "66bcaba5",
   "metadata": {},
   "outputs": [
    {
     "data": {
      "image/png": "[encoded data removed]",
      "text/plain": [
       "<Figure size 500x500 with 1 Axes>"
      ]
     },
     "metadata": {},
     "output_type": "display_data"
    }
   ],
   "source": [
    "# Plotting the Transaction count for Each Region\n",
    "plt.figure(figsize=(5, 5))\n",
    "plt.pie(\n",
    "    region_transaction_counts['TransactionCount'],\n",
    "    labels=region_transaction_counts['Region'],\n",
    "    autopct='%1.1f%%',\n",
    "    startangle=90,\n",
    "    colors=plt.cm.Set3.colors,  # Optional color scheme\n",
    "    wedgeprops={'edgecolor': 'black'}\n",
    ")\n",
    "plt.title(\"Transaction Distribution by Region\", fontsize=16)\n",
    "plt.show()"
   ]
  },
  {
   "cell_type": "code",
   "execution_count": 79,
   "id": "20eccb4c",
   "metadata": {},
   "outputs": [
    {
     "data": {
      "text/html": [
       "<div>\n",
       "<style scoped>\n",
       "    .dataframe tbody tr th:only-of-type {\n",
       "        vertical-align: middle;\n",
       "    }\n",
       "\n",
       "    .dataframe tbody tr th {\n",
       "        vertical-align: top;\n",
       "    }\n",
       "\n",
       "    .dataframe thead th {\n",
       "        text-align: right;\n",
       "    }\n",
       "</style>\n",
       "<table border=\"1\" class=\"dataframe\">\n",
       "  <thead>\n",
       "    <tr style=\"text-align: right;\">\n",
       "      <th></th>\n",
       "      <th>Region</th>\n",
       "      <th>TotalValue</th>\n",
       "    </tr>\n",
       "  </thead>\n",
       "  <tbody>\n",
       "    <tr>\n",
       "      <th>0</th>\n",
       "      <td>Asia</td>\n",
       "      <td>152074.97</td>\n",
       "    </tr>\n",
       "    <tr>\n",
       "      <th>1</th>\n",
       "      <td>Europe</td>\n",
       "      <td>166254.63</td>\n",
       "    </tr>\n",
       "    <tr>\n",
       "      <th>2</th>\n",
       "      <td>North America</td>\n",
       "      <td>152313.40</td>\n",
       "    </tr>\n",
       "    <tr>\n",
       "      <th>3</th>\n",
       "      <td>South America</td>\n",
       "      <td>219352.56</td>\n",
       "    </tr>\n",
       "  </tbody>\n",
       "</table>\n",
       "</div>"
      ],
      "text/plain": [
       "          Region  TotalValue\n",
       "0           Asia   152074.97\n",
       "1         Europe   166254.63\n",
       "2  North America   152313.40\n",
       "3  South America   219352.56"
      ]
     },
     "execution_count": 79,
     "metadata": {},
     "output_type": "execute_result"
    }
   ],
   "source": [
    "region_revenue=merged_df.groupby(\"Region\")['TotalValue'].sum().reset_index()\n",
    "region_revenue"
   ]
  },
  {
   "cell_type": "code",
   "execution_count": 80,
   "id": "de8aa29b",
   "metadata": {},
   "outputs": [
    {
     "data": {
      "image/png": "[encoded data removed]",
      "text/plain": [
       "<Figure size 500x500 with 1 Axes>"
      ]
     },
     "metadata": {},
     "output_type": "display_data"
    }
   ],
   "source": [
    "#Revenue Generated by Each Region \n",
    "plt.figure(figsize=(5, 5))\n",
    "plt.pie(\n",
    "    region_revenue['TotalValue'],\n",
    "    labels=region_revenue['Region'],\n",
    "    autopct='%1.1f%%',\n",
    "    startangle=90,\n",
    "    wedgeprops={'edgecolor': 'black'}\n",
    ")\n",
    "plt.title(\"Revenue Generated by Region\", fontsize=16)\n",
    "plt.show()"
   ]
  },
  {
   "cell_type": "code",
   "execution_count": 82,
   "id": "407a7aab",
   "metadata": {},
   "outputs": [
    {
     "data": {
      "image/png": "[encoded data removed]",
      "text/plain": [
       "<Figure size 600x400 with 1 Axes>"
      ]
     },
     "metadata": {},
     "output_type": "display_data"
    }
   ],
   "source": [
    "region_quantity=merged_df.groupby(\"Region\")['Quantity'].sum().reset_index()\n",
    "\n",
    "# Plot the No of Products Purchased for Each Region\n",
    "plt.figure(figsize=(6, 4))\n",
    "plt.bar(region_quantity['Region'], region_quantity['Quantity'], color='coral', alpha=0.8)\n",
    "\n",
    "\n",
    "plt.title(\"No of Products Purchased by Each Region\", fontsize=16)\n",
    "plt.xlabel(\"Region\", fontsize=14)\n",
    "plt.ylabel(\"No of Products\", fontsize=14)\n",
    "plt.xticks(rotation=45, ha='right')\n",
    "plt.grid(axis='y', linestyle='--', alpha=0.7)"
   ]
  },
  {
   "cell_type": "code",
   "execution_count": 83,
   "id": "65361b57",
   "metadata": {},
   "outputs": [
    {
     "name": "stdout",
     "output_type": "stream",
     "text": [
      "Average Order Value: $690.00\n"
     ]
    }
   ],
   "source": [
    "average_purchase = transaction_df['TotalValue'].mean()\n",
    "print(f\"Average Order Value: ${average_purchase:.2f}\")\n"
   ]
  },
  {
   "cell_type": "code",
   "execution_count": 84,
   "id": "0934015b",
   "metadata": {},
   "outputs": [
    {
     "name": "stdout",
     "output_type": "stream",
     "text": [
      "Percentage of Repeat Customers: 93.50%\n"
     ]
    }
   ],
   "source": [
    "repeat_customers = transaction_df['CustomerID'].value_counts()\n",
    "repeat_percentage = (repeat_customers[repeat_customers > 1].count() / len(customer_df)) * 100\n",
    "print(f\"Percentage of Repeat Customers: {repeat_percentage:.2f}%\")"
   ]
  },
  {
   "cell_type": "markdown",
   "id": "7f9eb192",
   "metadata": {},
   "source": [
    "## EDA Conclusion\n",
    "- All transactions were made in 2023 and 2024, with 99% of transactions occurring in 2024.\n",
    "- January 2024 had the highest number of transactions.\n",
    "- August and October 2024 generated the highest revenue, exceeding 70,000(dollars) from product sales.\n",
    "- Paul Parsons from Europe is the highest-spending customer, with purchases totaling more than 10,000(dollars).\n",
    "- Books is the most purchased category and has the highest number of transactions.\n",
    "- South America generated the highest revenue and recorded the highest number of product purchases among all continents.\n",
    "- The average order purchase value is 690(dollars).\n",
    "- 93% of customers are repeat customers (regular customers).\n",
    "- The most purchased products are SoundWave Jeans and SoundWave Cookbook."
   ]
  },
  {
   "cell_type": "code",
   "execution_count": null,
   "id": "effc92a4",
   "metadata": {},
   "outputs": [],
   "source": []
  }
 ],
 "metadata": {
  "kernelspec": {
   "display_name": "Python 3 (ipykernel)",
   "language": "python",
   "name": "python3"
  },
  "language_info": {
   "codemirror_mode": {
    "name": "ipython",
    "version": 3
   },
   "file_extension": ".py",
   "mimetype": "text/x-python",
   "name": "python",
   "nbconvert_exporter": "python",
   "pygments_lexer": "ipython3",
   "version": "3.10.12"
  }
 },
 "nbformat": 4,
 "nbformat_minor": 5
}
